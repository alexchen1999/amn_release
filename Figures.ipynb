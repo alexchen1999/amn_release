{
 "cells": [
  {
   "attachments": {},
   "cell_type": "markdown",
   "id": "e6799457",
   "metadata": {
    "id": "725c9c6d"
   },
   "source": [
    "# Install conda on your Colab environment"
   ]
  },
  {
   "attachments": {},
   "cell_type": "markdown",
   "id": "88211435",
   "metadata": {},
   "source": [
    "Ignore this first cell if you are running the notebook in a local environment.\n",
    "\n",
    "One can still run it locally but it will have no effect."
   ]
  },
  {
   "cell_type": "code",
   "execution_count": 52,
   "id": "96698fc8",
   "metadata": {
    "colab": {
     "base_uri": "https://localhost:8080/"
    },
    "executionInfo": {
     "elapsed": 40951,
     "status": "ok",
     "timestamp": 1664526150927,
     "user": {
      "displayName": "Leon Faure",
      "userId": "06483081905364613855"
     },
     "user_tz": -120
    },
    "id": "c4f08880",
    "outputId": "eaae29a9-4739-4b0f-a2a7-56bfa89f0bf0",
    "scrolled": true
   },
   "outputs": [],
   "source": [
    "# Run this cell first - it will install a conda distribution (mamba)\n",
    "# on your Drive then restart the kernel automatically \n",
    "# (don't worry about the crashing/restarting kernel messages)\n",
    "# It HAS to be runned FIRST everytime you use the notebook in colab\n",
    "\n",
    "import os\n",
    "import sys\n",
    "RunningInCOLAB  = 'google.colab' in str(get_ipython())\n",
    "\n",
    "if RunningInCOLAB:\n",
    "    !pip install -q condacolab\n",
    "    import condacolab\n",
    "    condacolab.install()"
   ]
  },
  {
   "attachments": {},
   "cell_type": "markdown",
   "id": "91f09048",
   "metadata": {},
   "source": [
    "# Set up your Colab or local environment\n",
    "# Then import libraries"
   ]
  },
  {
   "attachments": {},
   "cell_type": "markdown",
   "id": "7dca6d89",
   "metadata": {},
   "source": [
    "Run this cell in both cases of use (local or Colab)"
   ]
  },
  {
   "cell_type": "code",
   "execution_count": 1,
   "id": "2bb9783a",
   "metadata": {
    "colab": {
     "base_uri": "https://localhost:8080/"
    },
    "executionInfo": {
     "elapsed": 117260,
     "status": "ok",
     "timestamp": 1664526767265,
     "user": {
      "displayName": "Leon Faure",
      "userId": "06483081905364613855"
     },
     "user_tz": -120
    },
    "id": "BYwheAEcr-ME",
    "outputId": "8ba41a54-6751-4c00-ed1a-938db78cafb6"
   },
   "outputs": [
    {
     "name": "stdout",
     "output_type": "stream",
     "text": [
      "['.git', '.gitignore', '.ipynb_checkpoints', 'Build_Dataset.ipynb', 'Build_Dataset_KO.ipynb', 'Build_Experimental.ipynb', 'Build_Model_AMN.ipynb', 'Build_Model_AMN_KO.ipynb', 'Build_Model_ANN_Dense.ipynb', 'Build_Model_MM.ipynb', 'Build_Model_RC.ipynb', 'Dataset_experimental', 'Dataset_input', 'Dataset_model', 'Duplicate_Model.ipynb', 'environment_amn.yml', 'environment_amn_light.yml', 'Figures', 'Figures.ipynb', 'Library', 'LICENSE', 'README.md', 'Reservoir', 'Result', 'Tutorial.ipynb']\n"
     ]
    }
   ],
   "source": [
    "import os\n",
    "import sys\n",
    "RunningInCOLAB  = 'google.colab' in str(get_ipython())\n",
    "\n",
    "if RunningInCOLAB:\n",
    "    \n",
    "    # Check everything is fine with conda in Colab\n",
    "    import condacolab\n",
    "    condacolab.check()\n",
    "    \n",
    "    # Mount your drive environment in the colab runtime\n",
    "    from google.colab import drive\n",
    "    drive.mount('/content/drive',force_remount=True)\n",
    "    \n",
    "    # Change this variable to your path on Google Drive to which the repo has been cloned\n",
    "    # If you followed the colab notebook 'repo_cloning.ipynb', nothing to change here\n",
    "    repo_path_in_drive = '/content/drive/My Drive/Github/amn_release/'\n",
    "    # Change directory to your repo cloned in your drive\n",
    "    DIRECTORY = repo_path_in_drive\n",
    "    os.chdir(repo_path_in_drive)\n",
    "    # Copy the environment given in the environment_amn_light.yml\n",
    "    !mamba env update -n base -f environment_amn_light.yml\n",
    "    \n",
    "    # This is one of the few Colab-compatible font\n",
    "    font = 'Liberation Sans'\n",
    "    \n",
    "else:\n",
    "    \n",
    "    # In this case the local root of the repo is our working directory\n",
    "    DIRECTORY = './'\n",
    "    font = 'arial'\n",
    "\n",
    "# printing the working directory files. One can check you see the same folders and files as in the git webpage.\n",
    "print(os.listdir(DIRECTORY))\n",
    "\n",
    "import seaborn as sns\n",
    "import pandas as pd\n",
    "import matplotlib.pyplot as plt\n",
    "import numpy as np\n",
    "import glob\n",
    "from sklearn.metrics import r2_score\n",
    "\n",
    "# FORMAT = 'png'\n",
    "FORMAT = 'svg'"
   ]
  },
  {
   "attachments": {},
   "cell_type": "markdown",
   "id": "ec85f8a5",
   "metadata": {},
   "source": [
    "## Figure 2"
   ]
  },
  {
   "cell_type": "code",
   "execution_count": 59,
   "id": "7f3f4c14",
   "metadata": {},
   "outputs": [],
   "source": [
    "df_QP_UB = pd.read_csv(\"Result/Raw_data/AMN_QP_UB_core.csv\")\n",
    "df_LP_UB = pd.read_csv(\"Result/Raw_data/AMN_LP_UB_core.csv\")\n",
    "df_QP_EB = pd.read_csv(\"Result/Raw_data/AMN_QP_EB_core.csv\")\n",
    "df_LP_EB = pd.read_csv(\"Result/Raw_data/AMN_LP_EB_core.csv\")\n",
    "df_wt_UB = pd.read_csv(\"Result/Raw_data/AMN_wt_UB_core.csv\")\n",
    "\n",
    "df_QP_UB_IML1515 = pd.read_csv(\"Result/Raw_data/AMN_QP_UB_IML1515.csv\") \n",
    "df_LP_UB_IML1515 = pd.read_csv(\"Result/Raw_data/AMN_LP_UB_IML1515.csv\")\n",
    "df_wt_UB_IML1515 = pd.read_csv(\"Result/Raw_data/AMN_wt_UB_IML1515.csv\")\n",
    "\n",
    "ANN_UB_core = pd.read_csv('Result/Raw_data/core_UB_ANN.csv')\n",
    "ANN_EB_core = pd.read_csv('Result/Raw_data/core_EB_ANN.csv')\n",
    "ANN_UB_iML1515 = pd.read_csv('Result/Raw_data/iML1515_UB_ANN.csv')\n",
    "\n",
    "plt.close('all')\n",
    "fig2, axs = plt.subplots(nrows=2, ncols=3,\n",
    "                         figsize=(25, 15))\n",
    "sns.set_theme(font=font, style=\"whitegrid\", palette=\"colorblind\", font_scale=1.5)\n",
    "\n",
    "### UB Loss\n",
    "sns.lineplot(x='epoch', y='val_loss', data=df_QP_UB, ax=axs[0, 0], label='AMN - QP')\n",
    "sns.lineplot(x='epoch', y='val_loss', data=df_LP_UB, ax=axs[0, 0], label='AMN - LP')\n",
    "sns.lineplot(x='epoch', y='val_loss', data=df_wt_UB, ax=axs[0, 0], color='m', label='AMN - Wt')\n",
    "ANN_UB_core[\"Loss Stderr\"] = 1.96*(ANN_UB_core[\"Loss_Dev\"] / 10)\n",
    "axs[0, 0].plot(ANN_UB_core[\"Epoch\"], ANN_UB_core[\"Loss\"], label=\"ANN\", color='y')\n",
    "axs[0, 0].fill_between(ANN_UB_core[\"Epoch\"], ANN_UB_core[\"Loss\"]-ANN_UB_core[\"Loss Stderr\"], ANN_UB_core[\"Loss\"]+ANN_UB_core[\"Loss Stderr\"], alpha=0.2, color='y')\n",
    "axs[0, 0].set_title('E. coli core, UB', fontsize=25)\n",
    "axs[0, 0].set(xlabel=None, ylabel=None)\n",
    "axs[0, 0].set_xscale(\"log\")\n",
    "axs[0, 0].set_yscale(\"log\")\n",
    "axs[0, 0].legend(loc='upper right')\n",
    "axs[0, 0].set_ylabel(\"Loss\", fontsize=18)\n",
    "axs[0, 0].set_xlabel(\"Epochs\", fontsize=18) \n",
    "axs[0, 0].set_xlim(1,100)\n",
    "\n",
    "### EB loss\n",
    "sns.lineplot(x='epoch', y='val_loss', data=df_QP_EB, ax=axs[0, 1], label='AMN - QP')\n",
    "sns.lineplot(x='epoch', y='val_loss', data=df_LP_EB, ax=axs[0, 1], label='AMN - LP')\n",
    "ANN_EB_core[\"Loss Stderr\"] = 1.96*(ANN_EB_core[\"Loss_Dev\"] / 10)\n",
    "axs[0, 1].plot(ANN_EB_core[\"Epoch\"], ANN_EB_core[\"Loss\"], label=\"ANN\", color='y')\n",
    "axs[0, 1].fill_between(ANN_EB_core[\"Epoch\"], ANN_EB_core[\"Loss\"]-ANN_EB_core[\"Loss Stderr\"], ANN_EB_core[\"Loss\"]+ANN_EB_core[\"Loss Stderr\"], alpha=0.2, color='y')\n",
    "axs[0, 1].set_title('E. coli core, EB', fontsize=25)\n",
    "axs[0, 1].set(xlabel=None, ylabel=None)\n",
    "axs[0, 1].set_xscale(\"log\")\n",
    "axs[0, 1].set_yscale(\"log\")\n",
    "axs[0, 1].legend(loc='upper right')\n",
    "axs[0, 1].set_ylabel(\"Loss\", fontsize=18)\n",
    "axs[0, 1].set_xlabel(\"Epochs\", fontsize=18)\n",
    "axs[0, 1].set_xlim(1,100)\n",
    "\n",
    "### IML1515 Loss\n",
    "sns.lineplot(x='epoch', y='val_loss', data=df_QP_UB_IML1515, ax=axs[0, 2], label='AMN - QP')\n",
    "sns.lineplot(x='epoch', y='val_loss', data=df_LP_UB_IML1515, ax=axs[0, 2], label='AMN - LP')\n",
    "sns.lineplot(x='epoch', y='val_loss', data=df_wt_UB_IML1515, ax=axs[0, 2], color='m', label='AMN - Wt')\n",
    "ANN_UB_iML1515[\"Loss Stderr\"] = 1.96*(ANN_UB_iML1515[\"Loss_Dev\"] / 10)\n",
    "axs[0, 2].plot(ANN_UB_iML1515[\"Epoch\"], ANN_UB_iML1515[\"Loss\"], label=\"ANN\", color='y')\n",
    "axs[0, 2].fill_between(ANN_UB_iML1515[\"Epoch\"], ANN_UB_iML1515[\"Loss\"]-ANN_UB_iML1515[\"Loss Stderr\"], ANN_UB_iML1515[\"Loss\"]+ANN_UB_iML1515[\"Loss Stderr\"], alpha=0.2, color='y')\n",
    "axs[0, 2].set_title('iML1515, UB', fontsize=25)\n",
    "axs[0, 2].set(xlabel=None, ylabel=None)\n",
    "axs[0, 2].set_xscale(\"log\")\n",
    "axs[0, 2].set_yscale(\"log\")\n",
    "axs[0, 2].legend(loc='upper right')\n",
    "axs[0, 2].set_xlabel(\"Epochs\", fontsize=18)\n",
    "axs[0, 2].set_ylabel(\"Loss\", fontsize=18)\n",
    "axs[0, 2].set_xlim(1,100)\n",
    "\n",
    "### UB r2\n",
    "sns.lineplot(x='epoch', y='val_r2', data=df_QP_UB, ax=axs[1, 0], label='AMN - QP')\n",
    "sns.lineplot(x='epoch', y='val_r2', data=df_LP_UB, ax=axs[1, 0], label='AMN - LP')\n",
    "sns.lineplot(x='epoch', y='val_r2', data=df_wt_UB, ax=axs[1, 0], color='m', label='AMN - Wt')\n",
    "ANN_UB_core[\"Q2 Stderr\"] = 1.96*(ANN_UB_core[\"Dev\"] / 10)\n",
    "axs[1, 0].plot(ANN_UB_core[\"Epoch\"], ANN_UB_core[\"Q2\"], label=\"ANN\", color='y')\n",
    "axs[1, 0].fill_between(ANN_UB_core[\"Epoch\"], ANN_UB_core[\"Q2\"]-ANN_UB_core[\"Q2 Stderr\"], ANN_UB_core[\"Q2\"]+ANN_UB_core[\"Q2 Stderr\"], alpha=0.2, color='y')\n",
    "axs[1, 0].set(xlabel=None, ylabel=None)\n",
    "axs[1, 0].legend(loc='lower right')\n",
    "axs[1, 0].set_xscale(\"log\")\n",
    "axs[1, 0].set_xlabel(\"Epochs\", fontsize=18)\n",
    "axs[1, 0].set_ylabel(\"$Q^2$\", fontsize=18)\n",
    "axs[1, 0].set_xlim(1,100)\n",
    "axs[1, 0].set_ylim(0,1)\n",
    "\n",
    "### EB r2\n",
    "sns.lineplot(x='epoch', y='val_r2', data=df_QP_EB, ax=axs[1, 1], label='AMN - QP')\n",
    "sns.lineplot(x='epoch', y='val_r2', data=df_LP_EB, ax=axs[1, 1], label='AMN - LP')\n",
    "ANN_EB_core[\"Q2 Stderr\"] = 1.96*(ANN_EB_core[\"Dev\"] / 10)\n",
    "axs[1, 1].plot(ANN_EB_core[\"Epoch\"], ANN_EB_core[\"Q2\"], label=\"ANN\", color='y')\n",
    "axs[1, 1].fill_between(ANN_EB_core[\"Epoch\"], ANN_EB_core[\"Q2\"]-ANN_EB_core[\"Q2 Stderr\"], ANN_EB_core[\"Q2\"]+ANN_EB_core[\"Q2 Stderr\"], color='y', alpha=0.2)\n",
    "axs[1, 1].set(xlabel=None, ylabel=None)\n",
    "axs[1, 1].legend(loc='lower right')\n",
    "axs[1, 1].set_xscale(\"log\")\n",
    "axs[1, 1].set_xlabel(\"Epochs\", fontsize=18)\n",
    "axs[1, 1].set_ylabel(\"$Q^2$\", fontsize=18)\n",
    "axs[1, 1].set_xlim(1,100)\n",
    "axs[1, 1].set_ylim(0,1)\n",
    "\n",
    "### IML1515 r2\n",
    "sns.lineplot(x='epoch', y='val_r2', data=df_QP_UB_IML1515, ax=axs[1, 2], label='AMN - QP')\n",
    "sns.lineplot(x='epoch', y='val_r2', data=df_LP_UB_IML1515, ax=axs[1, 2], label='AMN - LP')\n",
    "sns.lineplot(x='epoch', y='val_r2', data=df_wt_UB_IML1515, ax=axs[1, 2], color='m', label='AMN - Wt')\n",
    "ANN_UB_iML1515[\"Q2 Stderr\"] = 1.96*(ANN_UB_iML1515[\"Dev\"] / 10)\n",
    "axs[1, 2].plot(ANN_UB_iML1515[\"Epoch\"], ANN_UB_iML1515[\"Q2\"], label=\"ANN\", color='y')\n",
    "axs[1, 2].fill_between(ANN_UB_iML1515[\"Epoch\"], ANN_UB_iML1515[\"Q2\"]-ANN_UB_iML1515[\"Q2 Stderr\"], ANN_UB_iML1515[\"Q2\"]+ANN_UB_iML1515[\"Q2 Stderr\"], alpha=0.2, color='y')\n",
    "axs[1, 2].set(xlabel=None, ylabel=None)\n",
    "axs[1, 2].legend(loc='upper right', bbox_to_anchor=(0.99, 0.98))\n",
    "axs[1, 2].set_xscale(\"log\")\n",
    "axs[1, 2].set_ylim(0,1)\n",
    "axs[1, 2].set_xlim(1,100)\n",
    "axs[1, 2].set_ylabel(\"$Q^2$\", fontsize=18)\n",
    "axs[1, 2].set_xlabel(\"Epochs\", fontsize=18)\n",
    "\n",
    "fig2.tight_layout()\n",
    "# fig2.savefig('Figures/Fig2.'+FORMAT, format=FORMAT, dpi=500, bbox_inches='tight')\n",
    "# plt.show()\n",
    "plt.close('all')"
   ]
  },
  {
   "attachments": {},
   "cell_type": "markdown",
   "id": "573cb0f3",
   "metadata": {
    "id": "9deebc8d"
   },
   "source": [
    "## Figure 3"
   ]
  },
  {
   "attachments": {},
   "cell_type": "markdown",
   "id": "f08e341c",
   "metadata": {},
   "source": [
    "### Experimental variability analysis"
   ]
  },
  {
   "cell_type": "code",
   "execution_count": 20,
   "id": "5a5f2917",
   "metadata": {},
   "outputs": [
    {
     "name": "stdout",
     "output_type": "stream",
     "text": [
      "Mean Q² =  0.911 +/- 0.019\n",
      "Max and Min 0.9517619207111421 0.809072060142604\n"
     ]
    }
   ],
   "source": [
    "ref_xpal = \"Dataset_experimental/EXP110.csv\"\n",
    "xpal_df = pd.read_csv(ref_xpal, header=0, index_col=0)\n",
    "ref_gr_avg = xpal_df[\"GR_AVG\"]\n",
    "ref_gr_std = xpal_df[\"GR_STD\"]\n",
    "\n",
    "QP = \"Result/Raw_data/iML1515_EXP_UB_AMN_QP_PRED.csv\"\n",
    "data = pd.read_csv(QP, header=None).astype(np.float32)\n",
    "preds_avg = data.mean(axis=0)\n",
    "preds_std = data.std(axis=0)\n",
    "\n",
    "sns.set_theme(font=font, style=\"whitegrid\", palette=\"colorblind\", font_scale=2.5)\n",
    "\n",
    "N_REPEATS = 1000\n",
    "\n",
    "Q2s = []\n",
    "\n",
    "for n in range(N_REPEATS):\n",
    "\n",
    "    new_points = []\n",
    "    new_points_pred = []\n",
    "        \n",
    "    for i in range(len(ref_gr_avg)):\n",
    "\n",
    "        mean = ref_gr_avg[i]\n",
    "        std = ref_gr_std[i]\n",
    "\n",
    "        new_points.append(np.random.normal(loc=mean, scale=std))\n",
    "\n",
    "    q2 = r2_score(ref_gr_avg, new_points)\n",
    "    Q2s.append(q2)\n",
    "\n",
    "print(\"Mean Q² = \", round(np.mean(Q2s), ndigits=3), \"+/-\", round(np.std(Q2s), ndigits=3))\n",
    "print(\"Max and Min\", max(Q2s), min(Q2s))"
   ]
  },
  {
   "cell_type": "code",
   "execution_count": 21,
   "id": "d3e45636",
   "metadata": {},
   "outputs": [
    {
     "name": "stdout",
     "output_type": "stream",
     "text": [
      "AMN - LP\n",
      "individual Q2:  [0.7859619235115097, 0.7987948602141836, 0.7690692680066933]\n",
      "Q2 on mean pred vs mean true:  0.8080419187325129\n",
      "xpal var, pred var, either one:  (0.4090909090909091, 0.2909090909090909, 0.7636363636363637)\n",
      "Q² maximized with variance 0.9569470579055526\n",
      "Q² minimized with variance 0.4279839687953344\n",
      "AMN - QP\n",
      "individual Q2:  [0.8176335592303237, 0.7478270260519009, 0.7683384496320917]\n",
      "Q2 on mean pred vs mean true:  0.8081204202488205\n",
      "xpal var, pred var, either one:  (0.4, 0.2909090909090909, 0.7909090909090909)\n",
      "Q² maximized with variance 0.9636987945649875\n",
      "Q² minimized with variance 0.38967578035538497\n",
      "AMN - Wt\n",
      "individual Q2:  [0.7675166066762092, 0.7668082457119375, 0.78729645669119]\n",
      "Q2 on mean pred vs mean true:  0.7862898392909012\n",
      "xpal var, pred var, either one:  (0.4090909090909091, 0.2, 0.7363636363636363)\n",
      "Q² maximized with variance 0.9443906779087563\n",
      "Q² minimized with variance 0.4534729107785962\n"
     ]
    }
   ],
   "source": [
    "def correct_preds_with_variance(true_means, true_stds, pred_means, pred_stds):\n",
    "\n",
    "    total_count = len(true_means)\n",
    "\n",
    "    frac_var_xpal, frac_var_pred, frac_var_both = 0, 0, 0\n",
    "\n",
    "    for i in range(total_count):\n",
    "        pred = pred_means[i]\n",
    "        true = true_means[i]\n",
    "        min_pred = pred - pred_stds[i]\n",
    "        max_pred = pred + pred_stds[i]\n",
    "        min_true = true - true_stds[i]\n",
    "        max_true = true + true_stds[i]\n",
    "    \n",
    "        if pred < max_true and pred > min_true:\n",
    "            frac_var_xpal += 1\n",
    "        if true < max_pred and true > min_pred:\n",
    "            frac_var_pred += 1\n",
    "        # to change: max_pred, max_true, min_true, min_pred\n",
    "        if (pred < max_true and pred > min_true) or (true < max_pred and true > min_pred) or (max_pred < min_true) or (min_pred < max_true):\n",
    "            frac_var_both += 1\n",
    "    \n",
    "    frac_var_both /= total_count\n",
    "    frac_var_pred /= total_count\n",
    "    frac_var_xpal /= total_count\n",
    "    \n",
    "    return frac_var_xpal, frac_var_pred, frac_var_both\n",
    "\n",
    "def best_points(true_means, true_stds, pred_means, pred_stds):\n",
    "\n",
    "    total_count = len(true_means)\n",
    "\n",
    "    best_true = []\n",
    "\n",
    "    best_preds = []\n",
    "\n",
    "    for i in range(total_count):\n",
    "        pred = pred_means[i]\n",
    "        true = true_means[i]\n",
    "        min_pred = pred - pred_stds[i]\n",
    "        max_pred = pred + pred_stds[i]\n",
    "        min_true = true - true_stds[i]\n",
    "        max_true = true + true_stds[i]\n",
    "    \n",
    "        range_pred = np.linspace(min_pred, max_pred, 100)\n",
    "        range_true = np.linspace(min_true, max_true, 100)\n",
    "        # range_pred = np.linspace(pred, pred, 100) # only searching on xpal variance\n",
    "        # range_true = np.linspace(true, true, 100) # only searching on pred variance\n",
    "\n",
    "        # this block needed instead of distances = ... when looking for both xpal and pred vars\n",
    "        min_dist = 100\n",
    "        best_index_pred = 0\n",
    "        best_index_true = 0\n",
    "        for pred in range_pred:\n",
    "            for true in range_true:\n",
    "                dist = (pred - true)**2\n",
    "                if dist < min_dist:\n",
    "                    min_dist = dist\n",
    "                    best_index_pred = list(range_pred).index(pred)\n",
    "                    best_index_true = list(range_true).index(true)\n",
    "        best_preds.append(range_pred[best_index_pred])\n",
    "        best_true.append(range_true[best_index_true])\n",
    "    \n",
    "    return best_true, best_preds\n",
    "\n",
    "\n",
    "def worst_points(true_means, true_stds, pred_means, pred_stds):\n",
    "\n",
    "    total_count = len(true_means)\n",
    "\n",
    "    best_true = []\n",
    "\n",
    "    best_preds = []\n",
    "\n",
    "    for i in range(total_count):\n",
    "        pred = pred_means[i]\n",
    "        true = true_means[i]\n",
    "        min_pred = pred - pred_stds[i]\n",
    "        max_pred = pred + pred_stds[i]\n",
    "        min_true = true - true_stds[i]\n",
    "        max_true = true + true_stds[i]\n",
    "    \n",
    "        range_pred = np.linspace(min_pred, max_pred, 100)\n",
    "        range_true = np.linspace(min_true, max_true, 100)\n",
    "        # range_pred = np.linspace(pred, pred, 100) # only searching on xpal variance\n",
    "        # range_true = np.linspace(true, true, 100) # only searching on pred variance\n",
    "\n",
    "        # this block needed instead of distances = ... when looking for both xpal and pred vars\n",
    "        min_dist = 0\n",
    "        best_index_pred = 0\n",
    "        best_index_true = 0\n",
    "        for pred in range_pred:\n",
    "            for true in range_true:\n",
    "                dist = (pred - true)**2\n",
    "                if dist > min_dist:\n",
    "                    min_dist = dist\n",
    "                    best_index_pred = list(range_pred).index(pred)\n",
    "                    best_index_true = list(range_true).index(true)\n",
    "        best_preds.append(range_pred[best_index_pred])\n",
    "        best_true.append(range_true[best_index_true])\n",
    "    \n",
    "    return best_true, best_preds\n",
    "\n",
    "ref_xpal = \"Dataset_experimental/EXP110.csv\"\n",
    "xpal_df = pd.read_csv(ref_xpal, header=0, index_col=0)\n",
    "ref_gr_avg = xpal_df[\"GR_AVG\"]\n",
    "ref_gr_std = xpal_df[\"GR_STD\"]\n",
    "\n",
    "LP = \"Result/Raw_data/iML1515_EXP_UB_AMN_LP_PRED.csv\"\n",
    "QP = \"Result/Raw_data/iML1515_EXP_UB_AMN_QP_PRED.csv\"\n",
    "Wt = \"Result/Raw_data/iML1515_EXP_UB_AMN_Wt_PRED.csv\"\n",
    "\n",
    "to_plot = [LP, QP, Wt]\n",
    "names = ['AMN - LP', 'AMN - QP', 'AMN - Wt']\n",
    "\n",
    "sns.set_theme(font=font, style=\"whitegrid\", palette=\"colorblind\", font_scale=2.5)\n",
    "\n",
    "for top in to_plot:\n",
    "    data = pd.read_csv(top, header=None).astype(np.float32)\n",
    "    \n",
    "    preds_avg = data.mean(axis=0)\n",
    "    preds_std = data.std(axis=0)\n",
    "    \n",
    "    Q2s = []\n",
    "    for i in data.index:\n",
    "        pred=data.iloc[i].to_list()\n",
    "        q2 = r2_score(ref_gr_avg.to_list(), pred)\n",
    "        Q2s.append(q2)\n",
    "    \n",
    "    q2_avg = np.mean(Q2s)\n",
    "    q2_std = np.std(Q2s)\n",
    "        \n",
    "    identity = [min(ref_gr_avg), max(ref_gr_avg)]\n",
    "\n",
    "    print(names[to_plot.index(top)])\n",
    "\n",
    "    print(\"individual Q2: \", Q2s)\n",
    "    print(\"Q2 on mean pred vs mean true: \", r2_score(ref_gr_avg, preds_avg))\n",
    "    print(\"xpal var, pred var, either one: \", correct_preds_with_variance(ref_gr_avg, ref_gr_std, preds_avg, preds_std))\n",
    "\n",
    "    best_true, best_preds = best_points(ref_gr_avg, ref_gr_std, preds_avg, preds_std)\n",
    "    worst_true, worst_preds = worst_points(ref_gr_avg, ref_gr_std, preds_avg, preds_std)\n",
    "\n",
    "    print(\"Q² maximized with variance\", r2_score(best_true, best_preds))\n",
    "    print(\"Q² minimized with variance\", r2_score(worst_true, worst_preds))\n",
    "\n",
    "    # plt.scatter(best_true, best_preds)\n",
    "    # plt.show()\n",
    "    # plt.close('all')"
   ]
  },
  {
   "attachments": {},
   "cell_type": "markdown",
   "id": "2602de73",
   "metadata": {},
   "source": [
    "### Random Forest performance"
   ]
  },
  {
   "cell_type": "code",
   "execution_count": 33,
   "id": "829e2eca",
   "metadata": {},
   "outputs": [
    {
     "name": "stdout",
     "output_type": "stream",
     "text": [
      "Q² on mean preds:  0.7250867954505202\n",
      "Mean and std on Q²s:  0.7148958678078339 0.011166046183798647\n"
     ]
    }
   ],
   "source": [
    "# RF performance on experimental dataset\n",
    "\n",
    "from sklearn.ensemble import RandomForestRegressor as rfr\n",
    "from sklearn.model_selection import KFold\n",
    "from sklearn.model_selection import cross_val_predict as cvp\n",
    "\n",
    "\n",
    "ref_xpal = \"Dataset_experimental/EXP110.csv\"\n",
    "xpal_df = pd.read_csv(ref_xpal, header=0, index_col=0)\n",
    "ref_gr_avg = xpal_df[\"GR_AVG\"]\n",
    "ref_gr_std = xpal_df[\"GR_STD\"]\n",
    "\n",
    "X = np.asarray(xpal_df.iloc[:,:10].values)\n",
    "Y = np.asarray(xpal_df[[\"GR_AVG\"]].values).reshape(-1,1)\n",
    "\n",
    "rf_preds = []\n",
    "\n",
    "Q2s = []\n",
    "\n",
    "for i in range(5):\n",
    "    \n",
    "    RF = rfr(n_estimators=500, max_depth=None, random_state=i)\n",
    "    \n",
    "    rf_pred = cvp(RF, X, np.ravel(Y), cv=KFold(n_splits=10, shuffle=True, random_state=i), n_jobs = 10)\n",
    "    \n",
    "    rf_preds.append(rf_pred)\n",
    "\n",
    "    Q2s.append(r2_score(np.ravel(Y), np.ravel(rf_pred)))\n",
    "\n",
    "mean_rf_pred = np.array(rf_preds).mean(axis=0)\n",
    "std_rf = np.array(rf_preds).std(axis=0)\n",
    "print(\"Q² on mean preds: \", r2_score(np.ravel(Y), np.ravel(mean_rf_pred)))\n",
    "print(\"Mean and std on Q²s: \", np.mean(Q2s), np.std(Q2s))\n",
    "plt.close('all')\n",
    "sns.set_theme(font=font, style=\"whitegrid\", palette=\"colorblind\", font_scale=2.5)\n",
    "plt.figure(figsize=(11, 10), dpi=800)\n",
    "sns.regplot(x=np.ravel(Y), y=mean_rf_pred, fit_reg=0)\n",
    "identity = [min(ref_gr_avg), max(ref_gr_avg)]\n",
    "\n",
    "plt.title(\"Random Forest    Q²=\"+str(round( np.mean(Q2s), 2))+\" ± \"+ str(round(np.std(Q2s), 2)))\n",
    "plt.xlabel(\"Measured growth rate (.\"+ r'$\\mathregular{hr^{-1}}$' +\")\")\n",
    "plt.ylabel(\"Predicted growth rate (.\"+ r'$\\mathregular{hr^{-1}}$' +\")\")\n",
    "plt.xlim(0, 0.5)\n",
    "plt.ylim(0, 0.5)\n",
    "plt.xticks([0.1,0.2,0.3,0.4],['0.1','0.2','0.3','0.4'])\n",
    "plt.yticks([0.1,0.2,0.3,0.4],['0.1','0.2','0.3','0.4'])\n",
    "plt.plot(identity, identity, ':')\n",
    "plt.errorbar(np.ravel(Y), mean_rf_pred, xerr=ref_gr_std, yerr=np.ravel(std_rf), ls='none', zorder=1)\n",
    "plt.scatter(np.ravel(Y), mean_rf_pred, zorder=1)\n",
    "# plt.savefig(\"Figures/RF.\"+FORMAT, format=FORMAT, dpi=800, bbox_inches = 'tight')\n",
    "# plt.show()\n",
    "plt.close('all')"
   ]
  },
  {
   "attachments": {},
   "cell_type": "markdown",
   "id": "f350523a",
   "metadata": {},
   "source": [
    "### Figure generation"
   ]
  },
  {
   "cell_type": "code",
   "execution_count": 3,
   "id": "c97f1a9a",
   "metadata": {
    "collapsed": true,
    "id": "8e962ac2",
    "jupyter": {
     "outputs_hidden": true
    },
    "outputId": "9ccc578a-d683-46ee-cf7d-e2d98911bb2a",
    "tags": []
   },
   "outputs": [],
   "source": [
    "plt.close('all')\n",
    "ref_xpal = \"Dataset_experimental/EXP110.csv\"\n",
    "xpal_df = pd.read_csv(ref_xpal, header=0, index_col=0)\n",
    "ref_gr_avg = xpal_df[\"GR_AVG\"]\n",
    "ref_gr_std = xpal_df[\"GR_STD\"]\n",
    "\n",
    "LP = \"Result/Raw_data/iML1515_EXP_UB_AMN_LP_PRED.csv\"\n",
    "QP = \"Result/Raw_data/iML1515_EXP_UB_AMN_QP_PRED.csv\"\n",
    "Wt = \"Result/Raw_data/iML1515_EXP_UB_AMN_Wt_PRED.csv\"\n",
    "\n",
    "to_plot = [LP, QP, Wt]\n",
    "names = ['AMN - LP', 'AMN - QP', 'AMN - Wt']\n",
    "\n",
    "figure_names = ['Fig3B', 'Fig3A', 'Fig3C']\n",
    "\n",
    "sns.set_theme(font=font, style=\"whitegrid\", palette=\"colorblind\", font_scale=3)\n",
    "\n",
    "for top in to_plot:\n",
    "    plt.close('all')\n",
    "    plt.figure(figsize=(11, 11), dpi=800)\n",
    "    data = pd.read_csv(top, header=None).astype(np.float32)\n",
    "    \n",
    "    preds_avg = data.mean(axis=0)\n",
    "    preds_std = data.std(axis=0)\n",
    "    \n",
    "    Q2s = []\n",
    "    for i in data.index:\n",
    "        pred=data.iloc[i].to_list()\n",
    "        q2 = r2_score(ref_gr_avg.to_list(), pred)\n",
    "        Q2s.append(q2)\n",
    "    \n",
    "    q2_avg = np.mean(Q2s)\n",
    "    q2_std = np.std(Q2s)\n",
    "        \n",
    "    identity = [min(ref_gr_avg), max(ref_gr_avg)]\n",
    "\n",
    "    # plt.title(names[to_plot.index(top)] + \"        Q²=\"+str(round(q2_avg, 2))+\" ± \"+ str(round(q2_std, 2)))\n",
    "    plt.xlabel(\"Measured growth rate (.\"+ r'$\\mathregular{hr^{-1}}$' +\")\")\n",
    "    plt.ylabel(\"Predicted growth rate (.\"+ r'$\\mathregular{hr^{-1}}$' +\")\")\n",
    "    plt.xlim(0, 0.5)\n",
    "    plt.ylim(0, 0.5)\n",
    "    plt.xticks([0.1,0.2,0.3,0.4],['0.1','0.2','0.3','0.4'])\n",
    "    plt.yticks([0.1,0.2,0.3,0.4],['0.1','0.2','0.3','0.4'])\n",
    "    plt.plot(identity, identity, ':')\n",
    "    plt.errorbar(ref_gr_avg, preds_avg, xerr=ref_gr_std, yerr=preds_std, ls=\"none\", zorder=1)\n",
    "    plt.scatter(ref_gr_avg, preds_avg, zorder=1)\n",
    "    # plt.savefig(\"Figures/\"+figure_names[to_plot.index(top)]+'.'+FORMAT, format=FORMAT, dpi=800, bbox_inches = 'tight')\n",
    "    # plt.show()\n",
    "    plt.close('all')"
   ]
  },
  {
   "attachments": {},
   "cell_type": "markdown",
   "id": "014d8141",
   "metadata": {},
   "source": [
    "## Figure 4"
   ]
  },
  {
   "attachments": {},
   "cell_type": "markdown",
   "id": "a916f85e",
   "metadata": {},
   "source": [
    "### Figure 4b"
   ]
  },
  {
   "cell_type": "code",
   "execution_count": 46,
   "id": "08f23dc3",
   "metadata": {},
   "outputs": [
    {
     "name": "stdout",
     "output_type": "stream",
     "text": [
      "AMN - Q²=0.81\n"
     ]
    }
   ],
   "source": [
    "biolog_df = pd.read_csv(DIRECTORY+'Dataset_input/biolog_iML1515_EXP.csv')\n",
    "TRUE = np.array(biolog_df[\"GR_AVG\"])\n",
    "\n",
    "trainname = \"biolog_iML1515_EXP2_UB\"\n",
    "reservoirname = trainname + '_AMN_QP'\n",
    "filename = DIRECTORY+'Result/Raw_data/'+reservoirname+'_PRED.csv'\n",
    "PRED = np.fromfile(filename, sep=',')\n",
    "\n",
    "print(\"AMN - Q²=\"+str(round(r2_score(TRUE, PRED), ndigits=2)))\n",
    "\n",
    "sns.set(font='arial', palette=\"colorblind\", style=\"whitegrid\", font_scale=2.5, rc={'figure.figsize':(11,11)})\n",
    "sns.regplot(x=TRUE, y=PRED, fit_reg=0, marker='+', color='black', scatter_kws={'s':40, 'linewidths':0.7})\n",
    "# sns.lineplot([min(TRUE.ravel()), max(TRUE.ravel())], [min(TRUE.ravel()), max(TRUE.ravel())], color='y')\n",
    "plt.xlabel(\"Measured growth rate (.\"+ r'$\\mathregular{hr^{-1}}$' +\")\")\n",
    "plt.ylabel(\"Predicted growth rate (.\"+ r'$\\mathregular{hr^{-1}}$' +\")\")\n",
    "plt.xlim(min(TRUE)-0.01, max(TRUE)+0.05)\n",
    "plt.ylim(min(PRED)-0.02, max(PRED)+0.05)\n",
    "# plt.savefig(\"Figures/Fig4B.\"+FORMAT, format=FORMAT, dpi=600, bbox_inches='tight')\n",
    "# plt.show()\n",
    "plt.close(\"all\")"
   ]
  },
  {
   "attachments": {},
   "cell_type": "markdown",
   "id": "fa47b5b4",
   "metadata": {},
   "source": [
    "### Figure 4d"
   ]
  },
  {
   "cell_type": "code",
   "execution_count": 47,
   "id": "5fbf7875",
   "metadata": {},
   "outputs": [
    {
     "name": "stdout",
     "output_type": "stream",
     "text": [
      "ROC curve - AMN - AUC=0.90\n"
     ]
    }
   ],
   "source": [
    "from sklearn.metrics import roc_auc_score, roc_curve\n",
    "\n",
    "biolog_df = pd.read_csv(DIRECTORY+'Dataset_input/biolog_iML1515_EXP.csv')\n",
    "TRUE = np.array(biolog_df[\"GR_AVG\"])\n",
    "\n",
    "trainname = \"biolog_iML1515_EXP2_UB\"\n",
    "reservoirname = trainname + '_AMN_QP'\n",
    "filename = DIRECTORY+'Result/Raw_data/'+reservoirname+'_PRED.csv'\n",
    "PRED = np.fromfile(filename, sep=',')\n",
    "\n",
    "Y_thresholded = [0 if x < 0.165 else 1 for x in TRUE]\n",
    "# 1.2 as \"best cut-off\" in the paper but higher values (like 2) gives better AUC\n",
    "# 0.165 is 5% of maximum growth rate (3.3), can be used\n",
    "\n",
    "ROC = roc_curve(Y_thresholded, PRED)\n",
    "AUC = roc_auc_score(Y_thresholded, PRED)\n",
    "\n",
    "print(\"ROC curve - AMN - AUC=\" + str(AUC)[:4])\n",
    "\n",
    "sns.set(font='arial', palette=\"colorblind\", style=\"whitegrid\", font_scale=2.5, rc={'figure.figsize':(11,11)})\n",
    "plt.xlabel(\"False Positive Rate\")\n",
    "plt.ylabel(\"True Positive Rate\")\n",
    "plt.ylim((0,1))\n",
    "plt.xlim((0,1))\n",
    "plt.xticks([0.2,0.4,0.6,0.8,1.0])\n",
    "sns.lineplot(x=ROC[0], y=ROC[1])\n",
    "# plt.savefig(\"Figures/Fig4D.\"+FORMAT, format=FORMAT, dpi=600, bbox_inches='tight')\n",
    "# plt.show()\n",
    "plt.close(\"all\")"
   ]
  },
  {
   "attachments": {},
   "cell_type": "markdown",
   "id": "63a9c225",
   "metadata": {},
   "source": [
    "### Figure 4c"
   ]
  },
  {
   "cell_type": "code",
   "execution_count": 42,
   "id": "bd67f3eb",
   "metadata": {},
   "outputs": [],
   "source": [
    "biolog_df = pd.read_csv(DIRECTORY+'Dataset_input/biolog_iML1515_EXP.csv')\n",
    "TRUE = np.array(biolog_df[\"GR_AVG\"])\n",
    "\n",
    "import json\n",
    "filename = DIRECTORY+'Result/Raw_data/biolog_Cobra_pred.csv'\n",
    "PRED = json.load(open(filename, 'r'))\n",
    "PRED = np.array(PRED[0][0])\n",
    "\n",
    "(\"Cobra - Q²=\"+str(round(r2_score(TRUE, PRED), ndigits=2)))\n",
    "\n",
    "sns.set(font='arial', palette=\"colorblind\", style=\"whitegrid\", font_scale=2.5, rc={'figure.figsize':(11,11)})\n",
    "sns.regplot(x=TRUE, y=PRED, fit_reg=0, marker='+', color='black', scatter_kws={'s':40, 'linewidths':0.7})\n",
    "# sns.lineplot([min(TRUE.ravel()), max(TRUE.ravel())], [min(TRUE.ravel()), max(TRUE.ravel())], color='y')\n",
    "plt.xlabel(\"Measured growth rate (.\"+ r'$\\mathregular{hr^{-1}}$' +\")\")\n",
    "plt.ylabel(\"Predicted growth rate (.\"+ r'$\\mathregular{hr^{-1}}$' +\")\")\n",
    "plt.xlim(min(TRUE)-0.01, max(TRUE)+0.05)\n",
    "plt.ylim(min(PRED)-0.02, max(PRED)+0.05)\n",
    "# plt.savefig(\"Figures/Fig4C.\"+FORMAT, format=FORMAT, dpi=600, bbox_inches='tight')\n",
    "# plt.show()\n",
    "plt.close('all')"
   ]
  },
  {
   "attachments": {},
   "cell_type": "markdown",
   "id": "5395e65d",
   "metadata": {},
   "source": [
    "### Figure 4e"
   ]
  },
  {
   "cell_type": "code",
   "execution_count": 51,
   "id": "63eacab4",
   "metadata": {},
   "outputs": [
    {
     "name": "stdout",
     "output_type": "stream",
     "text": [
      "ROC curve - Cobra - AUC=0.71\n"
     ]
    }
   ],
   "source": [
    "from sklearn.metrics import roc_auc_score, roc_curve\n",
    "\n",
    "biolog_df = pd.read_csv(DIRECTORY+'Dataset_input/biolog_iML1515_EXP.csv')\n",
    "TRUE = np.array(biolog_df[\"GR_AVG\"])\n",
    "\n",
    "import json\n",
    "filename = DIRECTORY+'Result/Raw_data/biolog_Cobra_pred.csv'\n",
    "PRED = json.load(open(filename, 'r'))\n",
    "PRED = np.array(PRED[0][0])\n",
    "\n",
    "Y_thresholded = [0 if x < 0.165 else 1 for x in TRUE]\n",
    "# 1.2 as \"best cut-off\" in the paper but higher values (like 2) gives better AUC\n",
    "# 0.165 is 5% of maximum growth rate (3.3), can be used\n",
    "\n",
    "ROC = roc_curve(Y_thresholded, PRED)\n",
    "AUC = roc_auc_score(Y_thresholded, PRED)\n",
    "\n",
    "print(\"ROC curve - Cobra - AUC=\" + str(AUC)[:4])\n",
    "\n",
    "sns.set(font='arial', palette=\"colorblind\", style=\"whitegrid\", font_scale=2.5, rc={'figure.figsize':(11,11)})\n",
    "plt.xlabel(\"False Positive Rate\")\n",
    "plt.ylabel(\"True Positive Rate\")\n",
    "plt.ylim((0,1))\n",
    "plt.xlim((0,1))\n",
    "plt.xticks([0.2,0.4,0.6,0.8,1.0])\n",
    "sns.lineplot(x=ROC[0], y=ROC[1])\n",
    "# plt.savefig(\"Figures/Fig4E.\"+FORMAT, format=FORMAT, dpi=600, bbox_inches='tight')\n",
    "# plt.show()\n",
    "plt.close(\"all\")"
   ]
  },
  {
   "attachments": {},
   "cell_type": "markdown",
   "id": "3f79204d",
   "metadata": {
    "id": "3a97a375"
   },
   "source": [
    "## Figure 5"
   ]
  },
  {
   "attachments": {},
   "cell_type": "markdown",
   "id": "a21c5da8",
   "metadata": {},
   "source": [
    "### 5c"
   ]
  },
  {
   "cell_type": "code",
   "execution_count": 53,
   "id": "e17a3395",
   "metadata": {
    "id": "2299b83a",
    "outputId": "c4688ff9-e5b9-4eb2-9d9e-1c64db110916"
   },
   "outputs": [],
   "source": [
    "plt.close('all')\n",
    "ref_xpal = \"Dataset_experimental/EXP110.csv\"\n",
    "xpal_df = pd.read_csv(ref_xpal, header=0, index_col=0)\n",
    "ref_gr_avg = xpal_df[\"GR_AVG\"]\n",
    "ref_gr_std = xpal_df[\"GR_STD\"]\n",
    "\n",
    "sns.set_theme(font=font, style=\"whitegrid\", palette=\"colorblind\", font_scale=3)\n",
    "\n",
    "cobra_train = \"Result/Raw_data/Cobra_train.csv\"\n",
    "\n",
    "to_plot = [cobra_train]\n",
    "names = ['R²=']\n",
    "\n",
    "figure_names = ['Fig5C']\n",
    "\n",
    "for fname in to_plot:\n",
    "    plt.close('all')\n",
    "\n",
    "    plt.figure(figsize=(11, 11), dpi=800)\n",
    "    \n",
    "    identity = [min(ref_gr_avg), max(ref_gr_avg)]\n",
    "\n",
    "    data = pd.read_csv(fname, header=None, delimiter=\",\").astype(np.float32)\n",
    "    preds_avg=data.iloc[:,0].to_list()\n",
    "    q2 = r2_score(ref_gr_avg.to_list(), preds_avg)\n",
    "    plt.plot(identity, identity, ':')\n",
    "    plt.scatter(ref_gr_avg, preds_avg, zorder=1)\n",
    "    plt.errorbar(ref_gr_avg, preds_avg, xerr=ref_gr_std, ls=\"none\", zorder=0)\n",
    "        \n",
    "    plt.xlabel(\"Measured growth rate (.\"+ r'$\\mathregular{hr^{-1}}$' +\")\")\n",
    "    plt.ylabel(\"Predicted growth rate (.\"+ r'$\\mathregular{hr^{-1}}$' +\")\")\n",
    "    plt.xlim(0, 0.5)\n",
    "    plt.ylim(0, 0.5)\n",
    "    plt.xticks([0.1,0.2,0.3,0.4],['0.1','0.2','0.3','0.4'])\n",
    "    plt.yticks([0.1,0.2,0.3,0.4],['0.1','0.2','0.3','0.4'])\n",
    "    # plt.savefig(\"Figures/\"+figure_names[to_plot.index(fname)]+'.'+FORMAT, format=FORMAT, dpi=800, bbox_inches = 'tight')\n",
    "    # plt.show()\n",
    "    plt.close('all')"
   ]
  },
  {
   "attachments": {},
   "cell_type": "markdown",
   "id": "097b1ade",
   "metadata": {},
   "source": [
    "### 5d"
   ]
  },
  {
   "cell_type": "code",
   "execution_count": 4,
   "id": "038c265d",
   "metadata": {},
   "outputs": [],
   "source": [
    "plt.close('all')\n",
    "ref_xpal = \"Dataset_experimental/EXP110.csv\"\n",
    "xpal_df = pd.read_csv(ref_xpal, header=0, index_col=0)\n",
    "ref_gr_avg = xpal_df[\"GR_AVG\"]\n",
    "ref_gr_std = xpal_df[\"GR_STD\"]\n",
    "\n",
    "sns.set_theme(font=font, style=\"whitegrid\", palette=\"colorblind\", font_scale=3)\n",
    "\n",
    "fname = \"Result/Raw_data/Cobra_alone.csv\"\n",
    "\n",
    "plt.close('all')\n",
    "\n",
    "plt.figure(figsize=(11, 11), dpi=800)\n",
    "\n",
    "identity = [min(ref_gr_avg), max(ref_gr_avg)]\n",
    "\n",
    "data = np.fromfile(fname)\n",
    "preds_avg=list(data)\n",
    "\n",
    "q2 = r2_score(ref_gr_avg.to_list(), preds_avg)\n",
    "# plt.title(\"R²=\"+str(round(q2, 2)))\n",
    "plt.plot(identity, identity, ':')\n",
    "plt.scatter(ref_gr_avg, preds_avg, zorder=1)\n",
    "plt.errorbar(ref_gr_avg, preds_avg, xerr=ref_gr_std, ls=\"none\", zorder=0)\n",
    "\n",
    "plt.xlabel(\"Measured growth rate (.\"+ r'$\\mathregular{hr^{-1}}$' +\")\")\n",
    "plt.ylabel(\"Predicted growth rate (.\"+ r'$\\mathregular{hr^{-1}}$' +\")\")\n",
    "plt.xlim(0, 0.5)\n",
    "plt.ylim(0, 0.5)\n",
    "plt.xticks([0.1,0.2,0.3,0.4],['0.1','0.2','0.3','0.4'])\n",
    "plt.yticks([0.1,0.2,0.3,0.4],['0.1','0.2','0.3','0.4'])\n",
    "# plt.savefig(\"Figures/Fig5D.\"+FORMAT, format=FORMAT, dpi=800, bbox_inches = 'tight')\n",
    "# plt.show()\n",
    "plt.close('all')"
   ]
  },
  {
   "attachments": {},
   "cell_type": "markdown",
   "id": "d8912e5f",
   "metadata": {},
   "source": [
    "### 5e and 5f"
   ]
  },
  {
   "cell_type": "code",
   "execution_count": 5,
   "id": "fb0ae4f5",
   "metadata": {},
   "outputs": [
    {
     "data": {
      "image/png": "[encoded data removed]",
      "text/plain": [
       "<Figure size 640x480 with 1 Axes>"
      ]
     },
     "metadata": {},
     "output_type": "display_data"
    },
    {
     "data": {
      "image/png": "[encoded data removed]",
      "text/plain": [
       "<Figure size 640x480 with 1 Axes>"
      ]
     },
     "metadata": {},
     "output_type": "display_data"
    }
   ],
   "source": [
    "condition = [\"All\", \"Carbon\", \"Nitrogen\"]\n",
    "acc_fit_AMN = [0.9597, 0.9538, 0.9709]\n",
    "acc_cobra = [0.8121, 0.8051, 0.8252]\n",
    "\n",
    "sns.set_theme(style='whitegrid', font='arial', font_scale=2, palette='colorblind')\n",
    "sns.barplot(x=condition, y=acc_fit_AMN, color=\"grey\")\n",
    "# plt.errorbar(x = condition, y = acc_fit_AMN, yerr=std_fit_AMN, fmt='none', c='orange', capsize = 2)\n",
    "plt.yticks([0.92, 0.96, 1.00])\n",
    "plt.ylabel(\"Accuracy\")\n",
    "plt.ylim(0.9, 1)\n",
    "plt.savefig(\"Figures/Fig5E.\"+FORMAT, format=FORMAT, dpi=800, bbox_inches = 'tight')\n",
    "plt.show()\n",
    "plt.close('all')\n",
    "\n",
    "sns.barplot(x=condition, y=acc_cobra, color=\"grey\")\n",
    "plt.ylabel(\"Accuracy\")\n",
    "plt.ylim(0.7, 0.9)\n",
    "plt.yticks([0.7, 0.8, 0.9])\n",
    "plt.savefig(\"Figures/Fig5F.\"+FORMAT, format=FORMAT, dpi=800, bbox_inches = 'tight')\n",
    "plt.show()\n",
    "plt.close('all')"
   ]
  },
  {
   "attachments": {},
   "cell_type": "markdown",
   "id": "67f17db0",
   "metadata": {},
   "source": [
    "## Figure S1e"
   ]
  },
  {
   "cell_type": "code",
   "execution_count": null,
   "id": "dd7a4d20",
   "metadata": {},
   "outputs": [],
   "source": [
    "plt.close('all')\n",
    "fname = \"Data_FigS1e.csv\"\n",
    "data = pd.read_csv(\"Result/Raw_data/\"+fname)[:31]\n",
    "sns.set_theme(font=font, style=\"whitegrid\", palette=\"pastel\", font_scale=1.5)\n",
    "plt.figure(figsize=(8, 6), dpi=500)\n",
    "sns.heatmap(data.transpose(), xticklabels=5, yticklabels=False,  cmap=\"YlGnBu\")\n",
    "plt.xlabel(\"Iterations\")\n",
    "# plt.savefig('Figures/FigS1E.png', dpi=600)\n",
    "# plt.show()\n",
    "plt.close('all')"
   ]
  },
  {
   "attachments": {},
   "cell_type": "markdown",
   "id": "fddae80a",
   "metadata": {},
   "source": [
    "## Figure S6d"
   ]
  },
  {
   "cell_type": "code",
   "execution_count": null,
   "id": "d3988fd8",
   "metadata": {},
   "outputs": [],
   "source": [
    "MM_LP_EB_r2 = pd.read_csv(\"./Result/Raw_data/MM_LP_EB_r2.csv\")\n",
    "MM_QP_EB_r2 = pd.read_csv(\"./Result/Raw_data/MM_QP_EB_r2.csv\")\n",
    "MM_LP_UB_r2 = pd.read_csv(\"./Result/Raw_data/MM_LP_UB_r2.csv\")\n",
    "MM_QP_UB_r2 = pd.read_csv(\"./Result/Raw_data/MM_QP_UB_r2.csv\")\n",
    "\n",
    "plt.close(\"all\")\n",
    "sns.set_theme(font=font, style=\"whitegrid\", palette=\"pastel\", font_scale=1.70)\n",
    "sns.lineplot(x='iteration', y='r2', data=MM_LP_EB_r2, label='EB - LP')\n",
    "sns.lineplot(x='iteration', y='r2', data=MM_LP_UB_r2, label='UB - LP')\n",
    "sns.lineplot(x='iteration', y='r2', data=MM_QP_EB_r2, label='EB - QP')\n",
    "sns.lineplot(x='iteration', y='r2', data=MM_QP_UB_r2, label='UB - QP')\n",
    "plt.xscale(\"log\")\n",
    "plt.legend(loc='lower right', prop={'size':12})\n",
    "plt.xlabel(\"Solver Iterations\")\n",
    "plt.ylabel(\"$R^2$\")\n",
    "plt.xlim(10,10000)\n",
    "plt.ylim(0,1)\n",
    "# plt.savefig('Figure/FigS6b.jpg', format='jpeg', dpi=500, bbox_inches='tight')\n",
    "# plt.show()"
   ]
  },
  {
   "attachments": {},
   "cell_type": "markdown",
   "id": "d6c6a6eb",
   "metadata": {},
   "source": [
    "## Figure S6e"
   ]
  },
  {
   "cell_type": "code",
   "execution_count": null,
   "id": "90bc27bd",
   "metadata": {},
   "outputs": [],
   "source": [
    "plt.close('all')\n",
    "col_labels_loss = [\"Iterations\", \"Loss Mean\", \"Loss Stdev\"]\n",
    "\n",
    "to_load = [\"MM_LP_Loss_e_coli_core_EB.csv\",\n",
    "           \"MM_LP_Loss_e_coli_core_UB.csv\",\n",
    "           \"MM_QP_Loss_e_coli_core_EB.csv\",\n",
    "           \"MM_QP_Loss_e_coli_core_UB.csv\"]\n",
    "\n",
    "# labels for each file (will appear on figure)\n",
    "load_labels = [\"EB - LP\", \"UB - LP\", \"EB - QP\", \"UB - QP\"]\n",
    "\n",
    "# sns.set_theme(font=\"Roboto\", style=\"whitegrid\", palette=\"pastel\")\n",
    "sns.set_theme(font=font, style=\"whitegrid\", palette=\"pastel\", font_scale=2.5)\n",
    "\n",
    "plt.figure(figsize=(18, 12), dpi=800)\n",
    "\n",
    "for fname in to_load:\n",
    "    results = pd.read_csv(\"Result/Raw_data/\"+fname, header=None, names=col_labels_loss)\n",
    "    label = load_labels[to_load.index(fname)]\n",
    "    results[\"Loss Stderr\"] = 1.96*(results[\"Loss Stdev\"] / 10) # for a 95% confidence interval standard error on 100 samples (100 different simulations with different Vin)\n",
    "    plt.plot(results[\"Iterations\"], results[\"Loss Mean\"], label=label)\n",
    "    plt.fill_between(results[\"Iterations\"], results[\"Loss Mean\"]-results[\"Loss Stderr\"], results[\"Loss Mean\"]+results[\"Loss Stderr\"], alpha=0.2)\n",
    "\n",
    "plt.legend()\n",
    "plt.xscale(\"log\")\n",
    "plt.yscale(\"log\")\n",
    "plt.xlim(1)\n",
    "plt.ylim(10e-6, 1)\n",
    "plt.xlabel(\"Solver iterations\")\n",
    "plt.ylabel(\"Loss\")\n",
    "# plt.savefig(\"Figures/FigS6E.png\", dpi=800, bbox_inches = 'tight')\n",
    "# plt.show()\n",
    "plt.close('all')"
   ]
  },
  {
   "attachments": {},
   "cell_type": "markdown",
   "id": "4b3044bf",
   "metadata": {},
   "source": [
    "## Figure S7"
   ]
  },
  {
   "cell_type": "code",
   "execution_count": null,
   "id": "8cf2d2f1",
   "metadata": {},
   "outputs": [],
   "source": [
    "figS7, axs_S7 = plt.subplots(nrows=2, ncols=2, figsize=(15, 15))\n",
    "figS7.subplots_adjust(wspace=0.4)\n",
    "sns.set_theme(font='Arial', style=\"whitegrid\", palette=\"pastel\", font_scale=1.5)\n",
    "\n",
    "axs_S7[0, 0].axis('off')\n",
    "\n",
    "list_h_dim = sorted(glob.glob(\"./Result/Raw_data/hidden*\"), key=len)\n",
    "list_n_hidden = sorted(glob.glob(\"./Result/Raw_data/n_*\"), key=len)\n",
    "list_lr = sorted(glob.glob(\"./Result/Raw_data/learning*\"))\n",
    "\n",
    "### Hidden dim\n",
    "for df_name in list_h_dim:\n",
    "    df = pd.read_csv(df_name)\n",
    "    sns.lineplot(x='epoch', y='val_loss', data=df, ax=axs_S7[0,1], label=df_name[23: -19])\n",
    "axs_S7[0, 1].legend(loc=\"upper right\", title=\"Dimension of Layer\")\n",
    "axs_S7[0, 1].set_xlabel(\"Epochs\")\n",
    "axs_S7[0, 1].set_ylabel(\"log(Loss)\")\n",
    "axs_S7[0, 1].set_xscale(\"log\")\n",
    "axs_S7[0, 1].set_xlim(1,100)\n",
    "\n",
    "### Number of hidden layers\n",
    "for df_name in list_n_hidden:\n",
    "    df = pd.read_csv(df_name)\n",
    "    sns.lineplot(x='epoch', y='val_loss', data=df, ax=axs_S7[1,0], label=df_name[21: -19])\n",
    "axs_S7[1, 0].legend(loc=\"upper right\", title=\"Number of Layers\")\n",
    "axs_S7[1, 0].set_xlabel(\"Epochs\")\n",
    "axs_S7[1, 0].set_ylabel(\"log(Loss)\")\n",
    "axs_S7[1, 0].set_xscale(\"log\")\n",
    "axs_S7[1, 0].set_xlim(1,100)\n",
    "### Learning rate\n",
    "for df_name in list_lr:\n",
    "    df = pd.read_csv(df_name)\n",
    "    sns.lineplot(x='epoch', y='val_loss', data=df, ax=axs_S7[1,1], label=df_name[26: -19])\n",
    "axs_S7[1, 1].legend(loc=\"upper right\", title=\"Learning Rate\")\n",
    "axs_S7[1, 1].set_xlabel(\"Epochs\")\n",
    "axs_S7[1, 1].set_ylabel(\"log(Loss)\")\n",
    "axs_S7[1, 1].set_xscale(\"log\")\n",
    "axs_S7[1, 1].set_xlim(1,100)\n",
    "# figS7.savefig('Figure/FigS7.jpg', format='jpeg', dpi=500)\n",
    "# plt.show()"
   ]
  },
  {
   "attachments": {},
   "cell_type": "markdown",
   "id": "bda60b34",
   "metadata": {},
   "source": [
    "## Figure S8"
   ]
  },
  {
   "cell_type": "code",
   "execution_count": 7,
   "id": "573d9c95",
   "metadata": {},
   "outputs": [
    {
     "name": "stdout",
     "output_type": "stream",
     "text": [
      "0.9125203027479746 0.5960820258819362\n"
     ]
    }
   ],
   "source": [
    "import json\n",
    "\n",
    "all_data = pd.read_csv(DIRECTORY+'Dataset_input/rijs_iML1515_EXP2.csv')\n",
    "true_df = all_data.iloc[:,89:]\n",
    "trainname = \"rijs_iML1515_EXP2_UB\"\n",
    "reservoirname = trainname + '_AMN_QP'\n",
    "filename = DIRECTORY+'Result/Raw_data/'+reservoirname+'_PRED.json'\n",
    "PRED = json.load(open(filename, \"r\"))\n",
    "PRED = np.array(PRED)\n",
    "PRED = np.mean(PRED, axis=0)\n",
    "pred_df = pd.DataFrame(PRED, columns=true_df.columns)\n",
    "\n",
    "var_weighted = r2_score(true_df.values, pred_df.values, multioutput='variance_weighted')\n",
    "uniform = r2_score(true_df.values, pred_df.values, multioutput='uniform_average')\n",
    "\n",
    "print(var_weighted, uniform)\n",
    "\n",
    "Q2s = []\n",
    "labels = []\n",
    "\n",
    "for flux in true_df.columns:\n",
    "    TRUE = true_df[flux]\n",
    "    PRED = pred_df[flux]\n",
    "\n",
    "    if \"MEASURE\" in flux:\n",
    "        label = str(flux)[:-8]\n",
    "    else:\n",
    "        label = str(flux)\n",
    "\n",
    "    if \"BIOMASS\" in flux:\n",
    "        label=\"Growth Rate\"\n",
    "\n",
    "    Q2s.append(r2_score(TRUE, PRED))\n",
    "    labels.append(label)\n",
    "\n",
    "sns.set(font='arial', palette=\"colorblind\", style=\"whitegrid\", font_scale=1.4, rc={'figure.figsize':(11,11)})\n",
    "# fig, ax = plt.subplots(figsize=(12, 8))\n",
    "\n",
    "g = sns.barplot(x=labels, y=Q2s)\n",
    "g.axhline(var_weighted, label=\"Variance Weighted Average Q²\", color=\"red\")\n",
    "g.axhline(uniform, label=\"Uniform Average Q²\")\n",
    "g.legend(loc='best')\n",
    "plt.xticks(rotation=45, ha='right')\n",
    "plt.ylim(0, 1)\n",
    "plt.ylabel(\"Q² between measured and predicted flux\")\n",
    "# plt.savefig(\"Figures/FigS8.png\", dpi=600, bbox_inches='tight')\n",
    "# plt.show()\n",
    "plt.close('all')"
   ]
  },
  {
   "attachments": {},
   "cell_type": "markdown",
   "id": "27227337",
   "metadata": {},
   "source": [
    "## Figure S9"
   ]
  },
  {
   "cell_type": "code",
   "execution_count": 4,
   "id": "9e94d994",
   "metadata": {},
   "outputs": [],
   "source": [
    "plt.close('all')\n",
    "ref_xpal = \"Dataset_experimental/EXP110.csv\"\n",
    "xpal_df = pd.read_csv(ref_xpal, header=0, index_col=0)\n",
    "ref_gr_avg = xpal_df[\"GR_AVG\"]\n",
    "ref_gr_std = xpal_df[\"GR_STD\"]\n",
    "\n",
    "sns.set_theme(font=font, style=\"whitegrid\", palette=\"colorblind\", font_scale=3)\n",
    "\n",
    "cobra_train = \"Result/Raw_data/Cobra_pred.csv\"\n",
    "\n",
    "to_plot = [cobra_train]\n",
    "names = ['Q²=']\n",
    "\n",
    "figure_names = ['FigS9']\n",
    "\n",
    "for fname in to_plot:\n",
    "    plt.close('all')\n",
    "\n",
    "    plt.figure(figsize=(11, 11), dpi=800)\n",
    "    \n",
    "    identity = [min(ref_gr_avg), max(ref_gr_avg)]\n",
    "\n",
    "    data = pd.read_csv(fname, header=None, delimiter=\",\").astype(np.float32)\n",
    "    preds_avg=data.iloc[:,0].to_list()\n",
    "    q2 = r2_score(ref_gr_avg.to_list(), preds_avg)\n",
    "    plt.plot(identity, identity, ':')\n",
    "    plt.scatter(ref_gr_avg, preds_avg, zorder=1)\n",
    "    plt.errorbar(ref_gr_avg, preds_avg, xerr=ref_gr_std, ls=\"none\", zorder=0)\n",
    "        \n",
    "    plt.xlabel(\"Measured growth rate (.\"+ r'$\\mathregular{hr^{-1}}$' +\")\")\n",
    "    plt.ylabel(\"Predicted growth rate (.\"+ r'$\\mathregular{hr^{-1}}$' +\")\")\n",
    "    plt.xlim(0, 0.5)\n",
    "    plt.ylim(0, 0.5)\n",
    "    plt.xticks([0.1,0.2,0.3,0.4],['0.1','0.2','0.3','0.4'])\n",
    "    plt.yticks([0.1,0.2,0.3,0.4],['0.1','0.2','0.3','0.4'])\n",
    "    # plt.savefig(\"Figures/\"+figure_names[to_plot.index(fname)]+'.png', dpi=800, bbox_inches = 'tight')\n",
    "    # plt.show()\n",
    "    plt.close('all')"
   ]
  },
  {
   "attachments": {},
   "cell_type": "markdown",
   "id": "2f0957c8",
   "metadata": {},
   "source": [
    "## Figure S10"
   ]
  },
  {
   "cell_type": "code",
   "execution_count": null,
   "id": "8363bec0",
   "metadata": {},
   "outputs": [],
   "source": [
    "from matplotlib.lines import Line2D\n",
    "\n",
    "fname = \"Result/Raw_data/Data_FigS10_AMN.csv\"\n",
    "plt.close('all')\n",
    "plt.figure(figsize=(6, 6), dpi=800)\n",
    "sns.set_theme(font=font, style=\"white\", palette=\"colorblind\", font_scale=1.5)\n",
    "data = pd.read_csv(fname, header=0, delimiter=\",\").astype(np.float32)\n",
    "\n",
    "sns.lineplot(data=data, x=\"Training Set Size\", y=\"AMN Q2\")\n",
    "plt.ylabel(\"AMN Q²\")\n",
    "plt.yticks([0.8,0.9,1.0],['0.8','0.9','1.0'])\n",
    "ax2 = plt.twinx()\n",
    "sns.lineplot(data=data, x=\"Training Set Size\", y=\"AMN Loss\", ax=ax2, color=\"orange\")\n",
    "plt.legend(handles=[Line2D([], [], marker='_', color=\"b\", label='Q²'), Line2D([], [], marker='_', color=\"orange\", label='Loss')], loc=7)\n",
    "plt.xscale('log')\n",
    "# plt.savefig(\"Figures/FigS10a.png\", dpi=600, bbox_inches = 'tight')\n",
    "# plt.show()\n",
    "plt.close('all')"
   ]
  },
  {
   "cell_type": "code",
   "execution_count": 4,
   "id": "b4da3de6",
   "metadata": {},
   "outputs": [],
   "source": [
    "from matplotlib.lines import Line2D\n",
    "\n",
    "fname = \"Result/Raw_data/Data_FigS10_ANN.csv\"\n",
    "plt.close('all')\n",
    "plt.figure(figsize=(6, 6), dpi=800)\n",
    "sns.set_theme(font=font, style=\"white\", palette=\"colorblind\", font_scale=1.5)\n",
    "data = pd.read_csv(fname, header=0, delimiter=\",\").astype(np.float32)\n",
    "\n",
    "\n",
    "sns.lineplot(data=data, x=\"Training Set Size\", y=\"ANN Q2\")\n",
    "plt.ylabel(\"ANN Q²\")\n",
    "plt.yticks([0.5,0.75,1.0],['0.5','0.75','1.0'])\n",
    "ax2 = plt.twinx()\n",
    "sns.lineplot(data=data, x=\"Training Set Size\", y=\"ANN Loss\", ax=ax2, color=\"orange\")\n",
    "plt.legend(handles=[Line2D([], [], marker='_', color=\"b\", label='Q²'), Line2D([], [], marker='_', color=\"orange\", label='Loss')], loc=7)\n",
    "plt.xscale(\"log\")\n",
    "# plt.savefig(\"Figures/FigS10b.png\", dpi=600, bbox_inches = 'tight')\n",
    "# plt.show()\n",
    "plt.close('all')"
   ]
  }
 ],
 "metadata": {
  "colab": {
   "collapsed_sections": [],
   "provenance": [],
   "toc_visible": true
  },
  "kernelspec": {
   "display_name": "Python 3.7.11 ('AMN')",
   "language": "python",
   "name": "python3"
  },
  "language_info": {
   "codemirror_mode": {
    "name": "ipython",
    "version": 3
   },
   "file_extension": ".py",
   "mimetype": "text/x-python",
   "name": "python",
   "nbconvert_exporter": "python",
   "pygments_lexer": "ipython3",
   "version": "3.7.12"
  },
  "vscode": {
   "interpreter": {
    "hash": "a6c18e9696c1974a25314c7f50070d762f9d347da5760adda9ec45ed5120fd09"
   }
  }
 },
 "nbformat": 4,
 "nbformat_minor": 5
}

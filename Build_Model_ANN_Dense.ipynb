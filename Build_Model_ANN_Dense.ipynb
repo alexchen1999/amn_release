{
 "cells": [
  {
   "cell_type": "markdown",
   "metadata": {
    "id": "725c9c6d"
   },
   "source": [
    "# Install conda on your Colab environment"
   ]
  },
  {
   "cell_type": "markdown",
   "metadata": {},
   "source": [
    "Ignore this first cell if you are running the notebook in a local environment.\n",
    "\n",
    "One can still run it locally but it will have no effect."
   ]
  },
  {
   "cell_type": "code",
   "execution_count": 1,
   "metadata": {
    "colab": {
     "base_uri": "https://localhost:8080/"
    },
    "executionInfo": {
     "elapsed": 40951,
     "status": "ok",
     "timestamp": 1664526150927,
     "user": {
      "displayName": "Leon Faure",
      "userId": "06483081905364613855"
     },
     "user_tz": -120
    },
    "id": "c4f08880",
    "outputId": "eaae29a9-4739-4b0f-a2a7-56bfa89f0bf0",
    "scrolled": true
   },
   "outputs": [],
   "source": [
    "# Run this cell first - it will install a conda distribution (mamba)\n",
    "# on your Drive then restart the kernel automatically \n",
    "# (don't worry about the crashing/restarting kernel messages)\n",
    "# It HAS to be runned FIRST everytime you use the notebook in colab\n",
    "\n",
    "import os\n",
    "import sys\n",
    "RunningInCOLAB  = 'google.colab' in str(get_ipython())\n",
    "\n",
    "if RunningInCOLAB:\n",
    "    !pip install -q condacolab\n",
    "    import condacolab\n",
    "    condacolab.install()"
   ]
  },
  {
   "cell_type": "markdown",
   "metadata": {},
   "source": [
    "# Set up your Colab or local environment\n",
    "# Then import libraries"
   ]
  },
  {
   "cell_type": "markdown",
   "metadata": {},
   "source": [
    "Run this cell in both cases of use (local or Colab)"
   ]
  },
  {
   "cell_type": "code",
   "execution_count": 1,
   "metadata": {
    "colab": {
     "base_uri": "https://localhost:8080/"
    },
    "executionInfo": {
     "elapsed": 117260,
     "status": "ok",
     "timestamp": 1664526767265,
     "user": {
      "displayName": "Leon Faure",
      "userId": "06483081905364613855"
     },
     "user_tz": -120
    },
    "id": "BYwheAEcr-ME",
    "outputId": "8ba41a54-6751-4c00-ed1a-938db78cafb6"
   },
   "outputs": [
    {
     "name": "stdout",
     "output_type": "stream",
     "text": [
      "['README.md', 'Duplicate_Model.ipynb', 'Dataset_experimental', 'Tutorial.ipynb', '.ipynb_checkpoints', '.git', 'Build_Model_RC.ipynb', 'biolog_simulations.npy', 'environment_amn_light.yml', 'Build_Experimental.ipynb', 'Reservoir', 'Build_Model_MM.ipynb', 'Dataset_model', 'Figures.ipynb', 'Result', 'Figures', '.gitignore', 'LICENSE', 'Build_Model_ANN_Dense.ipynb', 'Build_Dataset.ipynb', 'Build_Model_RF.ipynb', 'Library', 'Dataset_input', 'Functions', 'environment_amn.yml', 'Build_Model_AMN.ipynb', '.DS_Store']\n"
     ]
    }
   ],
   "source": [
    "import os\n",
    "import sys\n",
    "RunningInCOLAB  = 'google.colab' in str(get_ipython())\n",
    "\n",
    "if RunningInCOLAB:\n",
    "    \n",
    "    # Check everything is fine with conda in Colab\n",
    "    import condacolab\n",
    "    condacolab.check()\n",
    "    \n",
    "    # Mount your drive environment in the colab runtime\n",
    "    from google.colab import drive\n",
    "    drive.mount('/content/drive',force_remount=True)\n",
    "    \n",
    "    # Change this variable to your path on Google Drive to which the repo has been cloned\n",
    "    # If you followed the colab notebook 'repo_cloning.ipynb', nothing to change here\n",
    "    repo_path_in_drive = '/content/drive/My Drive/Github/amn_release/'\n",
    "    # Change directory to your repo cloned in your drive\n",
    "    DIRECTORY = repo_path_in_drive\n",
    "    os.chdir(repo_path_in_drive)\n",
    "    # Copy the environment given in the environment_amn_light.yml\n",
    "    !mamba env update -n base -f environment_amn_light.yml\n",
    "    \n",
    "    # This is one of the few Colab-compatible font\n",
    "    font = 'Liberation Sans'\n",
    "    \n",
    "else:\n",
    "    \n",
    "    # In this case the local root of the repo is our working directory\n",
    "    DIRECTORY = './'\n",
    "    font = 'arial'\n",
    "\n",
    "# printing the working directory files. One can check you see the same folders and files as in the git webpage.\n",
    "print(os.listdir(DIRECTORY))\n",
    "\n",
    "from Library.Build_Model import *\n",
    "\n",
    "# We declare this function here and not in the\n",
    "# function-storing python file to modify it easily\n",
    "# as it can change the printouts of the methods\n",
    "def printout(filename, Stats, model, time): \n",
    "    # printing Stats\n",
    "    if Stats == None:\n",
    "        print('Stats for %s failed CPU-time %.4f' % (filename, time))\n",
    "        return\n",
    "    print('Stats for %s CPU-time %.4f' % (filename, time))\n",
    "    print('R2 = %.4f (+/- %.4f) Constraint = %.4f (+/- %.4f)' % \\\n",
    "          (Stats.train_objective[0], Stats.train_objective[1],\n",
    "           Stats.train_loss[0], Stats.train_loss[1]))\n",
    "    print('Q2 = %.4f (+/- %.4f) Constraint = %.4f (+/- %.4f)' % \\\n",
    "          (Stats.test_objective[0], Stats.test_objective[1],\n",
    "           Stats.test_loss[0], Stats.test_loss[1]))\n",
    "    \n",
    "# Get R2/Q2 and constraints\n",
    "def collate_stats(model, parameter, measurement, Y, verbose=False):  \n",
    "    if verbose: print(Y.shape, parameter.Y.shape)\n",
    "    Y_true = parameter.Y[:, measurement]\n",
    "    Y_pred = Y[:, measurement]\n",
    "    RQ2 = r2_score(Y_true, Y_pred, multioutput='variance_weighted')\n",
    "    if verbose: print('RQ2 =', RQ2)\n",
    "    X = tf.convert_to_tensor(np.float32(model.X)) # Loss computed of tf tensors\n",
    "    Y = tf.convert_to_tensor(np.float32(Y))\n",
    "    L1 = (np.square(Y_true - Y_pred)).mean(axis=0)\n",
    "    if verbose: print('Loss_Vout =', L1)\n",
    "    L2, _ = Loss_SV(Y, model.S)\n",
    "    L2 = np.mean(L2.numpy())\n",
    "    if verbose: print('Loss_SV =', L2)\n",
    "    L3, _ = Loss_Vin(Y, model.Pin, X, model.mediumbound)\n",
    "    L3 = np.mean(L3.numpy())\n",
    "    if verbose: print('Loss_Vin =', L3)\n",
    "    L = (L1+L2+L3)/3\n",
    "    if verbose: print('Constraints =', L)\n",
    "    return RQ2, L"
   ]
  },
  {
   "cell_type": "markdown",
   "metadata": {
    "id": "LNzx86fAt34-"
   },
   "source": [
    "# Create and Train ANN\n",
    "\n",
    "\n"
   ]
  },
  {
   "cell_type": "code",
   "execution_count": 2,
   "metadata": {
    "scrolled": true,
    "tags": []
   },
   "outputs": [
    {
     "name": "stdout",
     "output_type": "stream",
     "text": [
      "nbr parameters: 8904\n",
      "train = 0.71 test = -0.10 loss-train = -1.000000 loss-test = -1.000000 iter=0\n",
      "nbr parameters: 8904\n",
      "train = 0.67 test = 0.54 loss-train = -1.000000 loss-test = -1.000000 iter=0\n",
      "nbr parameters: 8904\n",
      "train = 0.64 test = 0.60 loss-train = -1.000000 loss-test = -1.000000 iter=0\n",
      "nbr parameters: 8904\n",
      "train = 0.72 test = 0.46 loss-train = -1.000000 loss-test = -1.000000 iter=0\n",
      "nbr parameters: 8904\n",
      "train = 0.68 test = 0.48 loss-train = -1.000000 loss-test = -1.000000 iter=0\n",
      "Stats for All fluxes CPU-time 416.7927\n",
      "R2 = 0.6856 (+/- 0.0293) Constraint = -1.0000 (+/- 0.0000)\n",
      "Q2 = 0.3978 (+/- 0.2509) Constraint = -1.0000 (+/- 0.0000)\n",
      "(50, 154) (50, 154)\n",
      "RQ2 = 0.8113039196567445\n",
      "Loss_Vout = 0.002969156360921121\n",
      "Loss_SV = 0.16527662\n",
      "Loss_Vin = 0.2739699\n",
      "Constraints = 0.14740522061993575\n",
      "nbr parameters: 8904\n",
      "train = 0.73 test = -0.01 loss-train = -1.000000 loss-test = -1.000000 iter=0\n",
      "nbr parameters: 8904\n",
      "train = 0.60 test = 0.39 loss-train = -1.000000 loss-test = -1.000000 iter=0\n",
      "nbr parameters: 8904\n",
      "train = 0.72 test = 0.46 loss-train = -1.000000 loss-test = -1.000000 iter=0\n",
      "nbr parameters: 8904\n",
      "train = 0.71 test = 0.45 loss-train = -1.000000 loss-test = -1.000000 iter=0\n",
      "nbr parameters: 8904\n",
      "train = 0.67 test = 0.44 loss-train = -1.000000 loss-test = -1.000000 iter=0\n",
      "Stats for All fluxes CPU-time 398.8768\n",
      "R2 = 0.6873 (+/- 0.0489) Constraint = -1.0000 (+/- 0.0000)\n",
      "Q2 = 0.3454 (+/- 0.1816) Constraint = -1.0000 (+/- 0.0000)\n",
      "(50, 154) (50, 154)\n",
      "RQ2 = 0.8495179006474769\n",
      "Loss_Vout = 0.0023678546034688643\n",
      "Loss_SV = 0.32870498\n",
      "Loss_Vin = 0.2762464\n",
      "Constraints = 0.2024397454289395\n",
      "nbr parameters: 8904\n",
      "train = 0.72 test = 0.37 loss-train = -1.000000 loss-test = -1.000000 iter=0\n",
      "nbr parameters: 8904\n",
      "train = 0.62 test = 0.56 loss-train = -1.000000 loss-test = -1.000000 iter=0\n",
      "nbr parameters: 8904\n",
      "train = 0.73 test = 0.49 loss-train = -1.000000 loss-test = -1.000000 iter=0\n",
      "nbr parameters: 8904\n",
      "train = 0.75 test = 0.35 loss-train = -1.000000 loss-test = -1.000000 iter=0\n",
      "nbr parameters: 8904\n",
      "train = 0.70 test = 0.35 loss-train = -1.000000 loss-test = -1.000000 iter=0\n",
      "Stats for All fluxes CPU-time 386.3483\n",
      "R2 = 0.7068 (+/- 0.0442) Constraint = -1.0000 (+/- 0.0000)\n",
      "Q2 = 0.4239 (+/- 0.0843) Constraint = -1.0000 (+/- 0.0000)\n",
      "(50, 154) (50, 154)\n",
      "RQ2 = 0.8441090881612366\n",
      "Loss_Vout = 0.002452962942599894\n",
      "Loss_SV = 0.121055536\n",
      "Loss_Vin = 0.2725631\n",
      "Constraints = 0.1320238662586211\n",
      "Q2 (biomass) = 0.8350 (+/- 0.0169) Loss = 0.1606 (+/- 0.0302)\n"
     ]
    }
   ],
   "source": [
    "# What you can change\n",
    "seed = 2\n",
    "np.random.seed(seed=seed)\n",
    "# trainname = 'e_coli_core_UB_1540'\n",
    "# trainname = 'e_coli_core_UB_500'\n",
    "# trainname = 'e_coli_core_UB_10'\n",
    "# trainname = 'e_coli_core_UB_100'\n",
    "trainname = 'e_coli_core_UB_50'\n",
    "xfold = 5\n",
    "Maxloop = 3\n",
    "# End of what you can change\n",
    "\n",
    "# Load training set\n",
    "trainingfile = DIRECTORY+'Dataset_model/'+trainname\n",
    "cobramodel = cobra.io.read_sbml_model(trainingfile+'.xml')\n",
    "parameter = TrainingSet()\n",
    "parameter.load(trainingfile)\n",
    "RQ2, Loss = [], []\n",
    "\n",
    "for Nloop in range(Maxloop):\n",
    "    \"\"\"model = Neural_Model(trainingfile = trainingfile,\n",
    "                         model_type = 'ANN_Dense',\n",
    "                         scaler=False, batch_size=50,\n",
    "                         train_rate=1e-2, activation=\"linear\",\n",
    "                         n_hidden = 1, hidden_dim = 500,\n",
    "                         epochs = 200, xfold = xfold)\"\"\"\n",
    "    model = Neural_Model(trainingfile = trainingfile,\n",
    "                         model_type = 'ANN_Dense',\n",
    "                         scaler=True, batch_size=5,\n",
    "                         train_rate=1e-3, activation=\"relu\",\n",
    "                         n_hidden = 1, hidden_dim = 50,\n",
    "                         epochs = 500, xfold = xfold)\n",
    "    # Train and evaluate\n",
    "    start_time = time.time()\n",
    "    try:\n",
    "        reservoir, pred, stats, _ = train_evaluate_model(model, verbose=False)\n",
    "    except:\n",
    "        reservoir, pred, stats, _ = None, np.zeros(model.Y.shape), None, None\n",
    "    # Printing cross-validation results\n",
    "    delta_time = time.time() - start_time\n",
    "    printout('All fluxes', stats, reservoir, delta_time)\n",
    " \n",
    "    # Collate all predicted Y and get stats and constraints\n",
    "    biomass_index = get_index_from_id('BIOMASS_Ecoli_core_w_GAM',cobramodel.reactions)\n",
    "    rq2, l = collate_stats(model, parameter, biomass_index, pred, verbose=True)\n",
    "    RQ2.append(rq2)\n",
    "    Loss.append(l)\n",
    "\n",
    "# Print stats averaged over all iterations\n",
    "rqt = 'R2 (biomass)' if xfold < 2 else 'Q2 (biomass)'\n",
    "print(rqt, '= %.4f (+/- %.4f) Loss = %.4f (+/- %.4f)' \\\n",
    "      % (np.mean(RQ2), np.std(RQ2), np.mean(Loss), np.std(Loss)))"
   ]
  },
  {
   "cell_type": "code",
   "execution_count": 3,
   "metadata": {},
   "outputs": [
    {
     "name": "stdout",
     "output_type": "stream",
     "text": [
      "0.48614344477986793 -1.2180439571858431e+26\n",
      "0.0\n",
      "[8.39 8.39 8.39 8.39 8.39 8.39 8.39 8.39 8.39 8.39 8.39 8.39 8.39 8.39\n",
      " 8.39 8.39 8.39 8.39 8.39 8.39 8.39 8.39 8.39 8.39 8.39 8.39 8.39 8.39\n",
      " 8.39 8.39 8.39 8.39 8.39 8.39 8.39 8.39 8.39 8.39 8.39 8.39 8.39 8.39\n",
      " 8.39 8.39 8.39 8.39 8.39 8.39 8.39 8.39] [10.39412975  8.57355118  9.88906574 10.21946144  7.51073647  7.57185173\n",
      "  9.16762066  8.76229858  7.47470617  6.65266848  9.75116158  9.57881832\n",
      "  9.89524555  7.70101881  8.34381294  8.96830845 10.93606377  6.22824049\n",
      "  7.8714118   7.28311253  6.42173862  8.47281075  7.37325764  7.04062748\n",
      "  7.79740715  8.56834507  9.06470966  7.90090179  7.27300882  7.94634581\n",
      "  8.16026115  7.83511114  7.31363678  6.20226717  9.84066486  7.28922367\n",
      "  7.69981194  8.13519859  9.15987682 10.77380276  8.08413792  6.53094149\n",
      "  7.67902803  7.42254543  7.61065483  6.87567663  7.30626917  7.1021719\n",
      "  6.94989586  7.48793745]\n",
      "1.4797355783434958\n"
     ]
    }
   ],
   "source": [
    "# Some exploration of the results\n",
    "\n",
    "# R2 on all fluxes, variance weighted or not, or all individual values\n",
    "print(r2_score(model.Y, pred, multioutput='variance_weighted'), r2_score(model.Y, pred, multioutput='uniform_average'))\n",
    "# print(r2_score(model.Y, pred, multioutput='raw_values'))\n",
    "\n",
    "# Some fluxes make the R2 scoring bad because they have always the same value in training set\n",
    "# Examples: 15 is for ATPM, always at 8.39 (lower bound value); 72 is an uptake which is always at 10\n",
    "print(r2_score(model.Y[:,15], pred[:,15]))\n",
    "\n",
    "# Random Forests can predict a constant value, ANN has troubles for that\n",
    "print(model.Y[:,15], pred[:,15])\n",
    "\n",
    "# If looking at the MSE, it makes more sense (R2 is probably not the best metric when having constant fluxes in true)\n",
    "from sklearn.metrics import mean_squared_error\n",
    "print(mean_squared_error(model.Y[:,15], pred[:,15]))"
   ]
  },
  {
   "cell_type": "code",
   "execution_count": null,
   "metadata": {},
   "outputs": [],
   "source": [
    "\"\"\"\n",
    "e_coli_core_UB_10\n",
    "RQ2 = 0.5093122289792134\n",
    "Loss_Vout = 0.009020895545336305\n",
    "Loss_SV = 0.16743167\n",
    "Loss_Vin = 0.3259917\n",
    "Constraints = 0.16748141771709016\n",
    "R2 (biomass) = 0.8226 (+/- 0.0483) Loss = 0.1144 (+/- 0.0082)\n",
    "Q2 (biomass) = 0.3874 (+/- 0.2477) Loss = 0.2167 (+/- 0.0745)\n",
    "\n",
    "e_coli_core_EB_10\n",
    "RQ2 = 0.8126782171521297\n",
    "Loss_Vout = 0.003443758610330688\n",
    "Loss_SV = 0.05173849\n",
    "Loss_Vin = 0.49004155\n",
    "Constraints = 0.18174126733456805\n",
    "R2 (biomass) = 0.8301 (+/- 0.0130) Loss = 0.1838 (+/- 0.0022)\n",
    "Q2 (biomass) = 0.6621 (+/- 0.1461) Loss = 0.2656 (+/- 0.0210)\n",
    "\n",
    "e_coli_core_UB_50\n",
    "Q2 (biomass) = 0.8664 (+/- 0.0081) Loss = 0.1489 (+/- 0.0206)\n",
    "\n",
    "e_coli_core_UB_100\n",
    "Q2 (biomass) = 0.8512 (+/- 0.0546) Loss = 0.1108 (+/- 0.0046)\n",
    "\n",
    "e_coli_core_UB_500\n",
    "Q2 (biomass) = 0.9323 (+/- 0.0113) Loss = 0.0559 (+/- 0.0068)\n",
    "\n",
    "e_coli_core_UB_1000\n",
    "Q2 (biomass) = 0.9496 (+/- 0.0069) Loss = 0.0494 (+/- 0.0038)\n",
    "\n",
    "e_coli_core_UB_5000\n",
    "RQ2 = 0.9654334994082111\n",
    "Loss_Vout = 0.0005803402165036408\n",
    "Loss_SV = 0.087595426\n",
    "Loss_Vin = 0.05468053\n",
    "Constraints = 0.04761876524817484\n",
    "Q2 (biomass) = 0.9629 (+/- 0.0041) Loss = 0.0479 (+/- 0.0026)\n",
    "\"\"\""
   ]
  },
  {
   "cell_type": "code",
   "execution_count": null,
   "metadata": {},
   "outputs": [],
   "source": []
  }
 ],
 "metadata": {
  "colab": {
   "collapsed_sections": [],
   "name": "Build_Model.ipynb",
   "provenance": []
  },
  "kernelspec": {
   "display_name": "Python 3.7.11 ('AMN')",
   "language": "python",
   "name": "python3"
  },
  "language_info": {
   "codemirror_mode": {
    "name": "ipython",
    "version": 3
   },
   "file_extension": ".py",
   "mimetype": "text/x-python",
   "name": "python",
   "nbconvert_exporter": "python",
   "pygments_lexer": "ipython3",
   "version": "3.7.11"
  },
  "vscode": {
   "interpreter": {
    "hash": "a6c18e9696c1974a25314c7f50070d762f9d347da5760adda9ec45ed5120fd09"
   }
  }
 },
 "nbformat": 4,
 "nbformat_minor": 4
}

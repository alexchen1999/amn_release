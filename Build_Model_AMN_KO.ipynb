{
 "cells": [
  {
   "cell_type": "markdown",
   "id": "797214a1",
   "metadata": {
    "id": "725c9c6d",
    "jp-MarkdownHeadingCollapsed": true,
    "tags": []
   },
   "source": [
    "# Install conda on your Colab environment"
   ]
  },
  {
   "cell_type": "markdown",
   "id": "0b115347",
   "metadata": {},
   "source": [
    "Ignore this first cell if you are running the notebook in a local environment.\n",
    "\n",
    "One can still run it locally but it will have no effect."
   ]
  },
  {
   "cell_type": "code",
   "execution_count": 1,
   "id": "28aa9e51",
   "metadata": {
    "colab": {
     "base_uri": "https://localhost:8080/"
    },
    "executionInfo": {
     "elapsed": 40951,
     "status": "ok",
     "timestamp": 1664526150927,
     "user": {
      "displayName": "Leon Faure",
      "userId": "06483081905364613855"
     },
     "user_tz": -120
    },
    "id": "c4f08880",
    "outputId": "eaae29a9-4739-4b0f-a2a7-56bfa89f0bf0",
    "scrolled": true
   },
   "outputs": [],
   "source": [
    "# Run this cell first - it will install a conda distribution (mamba)\n",
    "# on your Drive then restart the kernel automatically \n",
    "# (don't worry about the crashing/restarting kernel messages)\n",
    "# It HAS to be runned FIRST everytime you use the notebook in colab\n",
    "\n",
    "import os\n",
    "import sys\n",
    "RunningInCOLAB  = 'google.colab' in str(get_ipython())\n",
    "\n",
    "if RunningInCOLAB:\n",
    "    !pip install -q condacolab\n",
    "    import condacolab\n",
    "    condacolab.install()"
   ]
  },
  {
   "cell_type": "markdown",
   "id": "b68185a2",
   "metadata": {
    "jp-MarkdownHeadingCollapsed": true,
    "tags": []
   },
   "source": [
    "# Set up your Colab or local environment\n",
    "# Then import libraries"
   ]
  },
  {
   "cell_type": "markdown",
   "id": "9a68eb72",
   "metadata": {},
   "source": [
    "Run this cell in both cases of use (local or Colab)"
   ]
  },
  {
   "cell_type": "code",
   "execution_count": 1,
   "id": "2fd7e165",
   "metadata": {
    "colab": {
     "base_uri": "https://localhost:8080/"
    },
    "executionInfo": {
     "elapsed": 117260,
     "status": "ok",
     "timestamp": 1664526767265,
     "user": {
      "displayName": "Leon Faure",
      "userId": "06483081905364613855"
     },
     "user_tz": -120
    },
    "id": "BYwheAEcr-ME",
    "outputId": "8ba41a54-6751-4c00-ed1a-938db78cafb6"
   },
   "outputs": [
    {
     "name": "stdout",
     "output_type": "stream",
     "text": [
      "['README.md', 'Duplicate_Model.ipynb', 'Dataset_experimental', 'Tutorial.ipynb', '.ipynb_checkpoints', '.git', 'Build_Model_RC.ipynb', 'Build_Model_AMN_KO.ipynb', 'biolog_simulations.npy', 'environment_amn_light.yml', 'Build_Experimental.ipynb', 'Reservoir', 'Build_Model_MM.ipynb', 'Dataset_model', 'Figures.ipynb', 'Result', 'Figures', '.gitignore', 'LICENSE', 'Build_Model_ANN_Dense.ipynb', 'Build_Dataset.ipynb', 'Library', 'Dataset_input', 'Functions', 'Build_Dataset_KO.ipynb', 'environment_amn.yml', 'Build_Model_AMN.ipynb', '.DS_Store']\n"
     ]
    }
   ],
   "source": [
    "import os\n",
    "import sys\n",
    "RunningInCOLAB  = 'google.colab' in str(get_ipython())\n",
    "\n",
    "if RunningInCOLAB:\n",
    "    \n",
    "    # Check everything is fine with conda in Colab\n",
    "    import condacolab\n",
    "    condacolab.check()\n",
    "    \n",
    "    # Mount your drive environment in the colab runtime\n",
    "    from google.colab import drive\n",
    "    drive.mount('/content/drive',force_remount=True)\n",
    "    \n",
    "    # Change this variable to your path on Google Drive to which the repo has been cloned\n",
    "    # If you followed the colab notebook 'repo_cloning.ipynb', nothing to change here\n",
    "    repo_path_in_drive = '/content/drive/My Drive/Github/amn_release/'\n",
    "    # Change directory to your repo cloned in your drive\n",
    "    DIRECTORY = repo_path_in_drive\n",
    "    os.chdir(repo_path_in_drive)\n",
    "    # Copy the environment given in the environment_amn_light.yml\n",
    "    !mamba env update -n base -f environment_amn_light.yml\n",
    "    \n",
    "    # This is one of the few Colab-compatible font\n",
    "    font = 'Liberation Sans'\n",
    "    \n",
    "else:\n",
    "    \n",
    "    # In this case the local root of the repo is our working directory\n",
    "    DIRECTORY = './'\n",
    "    font = 'arial'\n",
    "\n",
    "# printing the working directory files. One can check you see the same folders and files as in the git webpage.\n",
    "print(os.listdir(DIRECTORY))\n",
    "\n",
    "from Library.Build_Model import *\n",
    "\n",
    "# We declare this function here and not in the\n",
    "# function-storing python file to modify it easily\n",
    "# as it can change the printouts of the methods\n",
    "def printout(filename, Stats, model, time): \n",
    "    # printing Stats\n",
    "    print('Stats for %s CPU-time %.4f' % (filename, time))\n",
    "    print('R2 = %.4f (+/- %.4f) Constraint = %.4f (+/- %.4f)' % \\\n",
    "          (Stats.train_objective[0], Stats.train_objective[1],\n",
    "           Stats.train_loss[0], Stats.train_loss[1]))\n",
    "    print('Q2 = %.4f (+/- %.4f) Constraint = %.4f (+/- %.4f)' % \\\n",
    "          (Stats.test_objective[0], Stats.test_objective[1],\n",
    "           Stats.test_loss[0], Stats.test_loss[1]))"
   ]
  },
  {
   "cell_type": "code",
   "execution_count": null,
   "id": "aa6a42a1",
   "metadata": {},
   "outputs": [],
   "source": [
    "Maxloop, Q2, PRED = 1, [], []\n",
    "\n",
    "for Nloop in range(Maxloop):\n",
    "    # What you can change\n",
    "    seed = Nloop+1\n",
    "    np.random.seed(seed=seed)\n",
    "    trainname = 'biolog_iML1515_EXP_UB'\n",
    "    timestep = 0\n",
    "    # End of What you can change\n",
    "  \n",
    "    # Create model 100% for training 0% for testing\n",
    "    trainingfile = DIRECTORY+'Dataset_model/'+trainname\n",
    "    model = Neural_Model(trainingfile = trainingfile, \n",
    "              objective=['BIOMASS_Ec_iML1515_core_75p37M'],\n",
    "              model_type = 'AMN_QP',\n",
    "              scaler = True,\n",
    "              timestep = timestep, learn_rate=0.001,\n",
    "              n_hidden = 1, hidden_dim = 500,\n",
    "              # n_hidden = 1, hidden_dim = 500,\n",
    "              #train_rate = 1.0e-2,\n",
    "              # epochs = 1000, xfold = 10,\n",
    "              batch_size=100,\n",
    "              epochs=200, xfold=10,\n",
    "              verbose=True)\n",
    "\n",
    "    # Train and evaluate\n",
    "    reservoirname = trainname +'_'+model.model_type\n",
    "    reservoirfile = DIRECTORY+'Reservoir/'+reservoirname\n",
    "    start_time = time.time()\n",
    "    reservoir, pred, stats, _ = train_evaluate_model(model, verbose=2)\n",
    "    delta_time = time.time() - start_time\n",
    "\n",
    "    # Printing cross-validation results\n",
    "    printout(reservoirname, stats, model, delta_time)\n",
    "    r2 = r2_score(model.Y, pred[:,0], multioutput='variance_weighted')\n",
    "    print('Iter', Nloop, 'Collated Q2', r2)\n",
    "    Q2.append(r2)\n",
    "    PRED.append(pred[:,0])\n",
    "    \n",
    "# Save in Result folder\n",
    "Q2, PRED = np.asarray(Q2), np.asarray(PRED)\n",
    "print('Averaged Q2 = %.4f (+/- %.4f)' % (np.mean(Q2), np.std(Q2)))\n",
    "filename = DIRECTORY+'Result/'+reservoirname+'_Q2.csv'\n",
    "np.savetxt(filename, Q2, delimiter=',')\n",
    "filename = DIRECTORY+'Result/'+reservoirname+'_PRED.csv'\n",
    "np.savetxt(filename, PRED, delimiter=',')"
   ]
  }
 ],
 "metadata": {
  "kernelspec": {
   "display_name": "Python 3.7.11 ('AMN')",
   "language": "python",
   "name": "python3"
  },
  "language_info": {
   "codemirror_mode": {
    "name": "ipython",
    "version": 3
   },
   "file_extension": ".py",
   "mimetype": "text/x-python",
   "name": "python",
   "nbconvert_exporter": "python",
   "pygments_lexer": "ipython3",
   "version": "3.7.11"
  },
  "vscode": {
   "interpreter": {
    "hash": "a6c18e9696c1974a25314c7f50070d762f9d347da5760adda9ec45ed5120fd09"
   }
  }
 },
 "nbformat": 4,
 "nbformat_minor": 5
}

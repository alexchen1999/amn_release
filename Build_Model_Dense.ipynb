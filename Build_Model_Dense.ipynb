{
 "cells": [
  {
   "cell_type": "markdown",
   "metadata": {
    "id": "725c9c6d"
   },
   "source": [
    "# Install conda on your Colab environment"
   ]
  },
  {
   "cell_type": "markdown",
   "metadata": {},
   "source": [
    "Ignore this first cell if you are running the notebook in a local environment.\n",
    "\n",
    "One can still run it locally but it will have no effect."
   ]
  },
  {
   "cell_type": "code",
   "execution_count": 1,
   "metadata": {
    "colab": {
     "base_uri": "https://localhost:8080/"
    },
    "executionInfo": {
     "elapsed": 40951,
     "status": "ok",
     "timestamp": 1664526150927,
     "user": {
      "displayName": "Leon Faure",
      "userId": "06483081905364613855"
     },
     "user_tz": -120
    },
    "id": "c4f08880",
    "outputId": "eaae29a9-4739-4b0f-a2a7-56bfa89f0bf0",
    "scrolled": true
   },
   "outputs": [],
   "source": [
    "# Run this cell first - it will install a conda distribution (mamba)\n",
    "# on your Drive then restart the kernel automatically \n",
    "# (don't worry about the crashing/restarting kernel messages)\n",
    "# It HAS to be runned FIRST everytime you use the notebook in colab\n",
    "\n",
    "import os\n",
    "import sys\n",
    "RunningInCOLAB  = 'google.colab' in str(get_ipython())\n",
    "\n",
    "if RunningInCOLAB:\n",
    "    !pip install -q condacolab\n",
    "    import condacolab\n",
    "    condacolab.install()"
   ]
  },
  {
   "cell_type": "markdown",
   "metadata": {},
   "source": [
    "# Set up your Colab or local environment\n",
    "# Then import libraries"
   ]
  },
  {
   "cell_type": "markdown",
   "metadata": {},
   "source": [
    "Run this cell in both cases of use (local or Colab)"
   ]
  },
  {
   "cell_type": "code",
   "execution_count": 2,
   "metadata": {
    "colab": {
     "base_uri": "https://localhost:8080/"
    },
    "executionInfo": {
     "elapsed": 117260,
     "status": "ok",
     "timestamp": 1664526767265,
     "user": {
      "displayName": "Leon Faure",
      "userId": "06483081905364613855"
     },
     "user_tz": -120
    },
    "id": "BYwheAEcr-ME",
    "outputId": "8ba41a54-6751-4c00-ed1a-938db78cafb6"
   },
   "outputs": [
    {
     "name": "stdout",
     "output_type": "stream",
     "text": [
      "['README.md', 'Duplicate_Model.ipynb', 'Build_Model_Dense.ipynb', 'Build_Dataset.py', 'Dataset_experimental', '.ipynb_checkpoints', '.git', 'Build_Experimental.ipynb', 'Reservoir', 'Dataset_model', 'Figures.ipynb', 'Result', 'Figures', '.gitignore', 'Duplicate_Model.py', 'LICENSE', 'Build_Dataset.ipynb', 'Dataset_input', '__pycache__', 'Build_Experimental.py', 'old', 'environment_amn.yml', 'Build_Model.py', 'Build_Model.ipynb', '.DS_Store']\n"
     ]
    }
   ],
   "source": [
    "import os\n",
    "import sys\n",
    "RunningInCOLAB  = 'google.colab' in str(get_ipython())\n",
    "\n",
    "if RunningInCOLAB:\n",
    "    \n",
    "    # Check everything is fine with conda in Colab\n",
    "    import condacolab\n",
    "    condacolab.check()\n",
    "    \n",
    "    # Mount your drive environment in the colab runtime\n",
    "    from google.colab import drive\n",
    "    drive.mount('/content/drive',force_remount=True)\n",
    "    \n",
    "    # Change this variable to your path on Google Drive to which the repo has been cloned\n",
    "    # If you followed the colab notebook 'repo_cloning.ipynb', nothing to change here\n",
    "    repo_path_in_drive = '/content/drive/My Drive/Github/amn_release/'\n",
    "    # Change directory to your repo cloned in your drive\n",
    "    DIRECTORY = repo_path_in_drive\n",
    "    os.chdir(repo_path_in_drive)\n",
    "    # Copy the environment given in the environment_amn.yml\n",
    "    !mamba env update -n base -f environment_amn.yml\n",
    "    \n",
    "    # This is one of the few Colab-compatible font\n",
    "    font = 'Liberation Sans'\n",
    "    \n",
    "else:\n",
    "    \n",
    "    # In this case the local root of the repo is our working directory\n",
    "    DIRECTORY = './'\n",
    "    font = 'arial'\n",
    "\n",
    "# printing the working directory files. One can check you see the same folders and files as in the git webpage.\n",
    "print(os.listdir(DIRECTORY))\n",
    "\n",
    "from Build_Model import *\n",
    "\n",
    "# We declare this function here and not in the\n",
    "# function-storing python file to modify it easily\n",
    "# as it can change the printouts of the methods\n",
    "def printout(filename, Stats, model, time): \n",
    "    # printing Stats\n",
    "    if Stats == None:\n",
    "        print('Stats for %s failed CPU-time %.4f' % (filename, time))\n",
    "        return\n",
    "    print('Stats for %s CPU-time %.4f' % (filename, time))\n",
    "    print('R2 = %.4f (+/- %.4f) Constraint = %.4f (+/- %.4f)' % \\\n",
    "          (Stats.train_objective[0], Stats.train_objective[1],\n",
    "           Stats.train_loss[0], Stats.train_loss[1]))\n",
    "    print('Q2 = %.4f (+/- %.4f) Constraint = %.4f (+/- %.4f)' % \\\n",
    "          (Stats.test_objective[0], Stats.test_objective[1],\n",
    "           Stats.test_loss[0], Stats.test_loss[1]))"
   ]
  },
  {
   "cell_type": "markdown",
   "metadata": {
    "id": "LNzx86fAt34-"
   },
   "source": [
    "# Create and Train ANN\n",
    "\n",
    "\n"
   ]
  },
  {
   "cell_type": "code",
   "execution_count": null,
   "metadata": {
    "id": "rLJUJ4kCxjf8",
    "outputId": "aeca8606-f76b-4a28-9efb-bc0297ccbde9",
    "scrolled": true
   },
   "outputs": [
    {
     "name": "stdout",
     "output_type": "stream",
     "text": [
      "1 / 154 ['PFK'] ----------------------------------------------------------------------\n",
      "nbr parameters: 1101\n"
     ]
    }
   ],
   "source": [
    "# Create, train and evaluate ANN models with FBA simulated training set for E. coli core\n",
    "\n",
    "# What you can change\n",
    "seed = 10\n",
    "np.random.seed(seed=seed)\n",
    "trainname = 'e_coli_core_UB_10000'\n",
    "size = 1000\n",
    "# End of What you can change\n",
    "\n",
    "# Load training set\n",
    "trainingfile = DIRECTORY+'Dataset_model/'+trainname\n",
    "cobramodel = cobra.io.read_sbml_model(trainingfile+'.xml')\n",
    "OBJ = [r.id for r in cobramodel.reactions]\n",
    "parameter = TrainingSet()\n",
    "parameter.load(trainingfile)\n",
    "\n",
    "# Set all pred fluxes to zero\n",
    "Y, zeros = {}, 0 * parameter.Y \n",
    "for i in range(len(OBJ)):\n",
    "    Y[i] = zeros[:,0] # zero vector\n",
    "\n",
    "# train for different flux outputs \n",
    "# when size > len(OBJ) all flux are taken one after another \n",
    "# otherwise (small trainig sets) output fluxes are chosen at random\n",
    "size = size if size < len(OBJ) else len(OBJ)\n",
    "for k in range(size):\n",
    "    \n",
    "    # choose an output flux at random when size < range(len(OBJ))\n",
    "    i = k if size == len(OBJ) else np.random.randint(0,high=len(OBJ))\n",
    "    objective = [OBJ[i]]\n",
    "    \n",
    "    # create model\n",
    "    print(k+1,'/',size, objective,'----------------------------------------------------------------------')\n",
    "    if np.sum(parameter.Y[:,i]) == 0:\n",
    "        continue # Skip all parameter.Y beeing at zero\n",
    "    model = Neural_Model(trainingfile = trainingfile, \n",
    "                         objective=objective, \n",
    "                         model_type = 'ANN_Dense',\n",
    "                         n_hidden = 1, hidden_dim = 50, \n",
    "                         epochs = 500, xfold = 5)\n",
    "        \n",
    "    # Train and evaluate\n",
    "    start_time = time.time()\n",
    "    try:\n",
    "        reservoir, pred, stats, _ = train_evaluate_model(model, verbose=False)\n",
    "    except:\n",
    "        reservoir, pred, stats, _ = None, zeros, None, None\n",
    "    delta_time = time.time() - start_time\n",
    "\n",
    "    # Printing cross-validation results\n",
    "    printout(objective, stats, reservoir, delta_time)\n",
    "    Y[i] = pred[:,0]\n",
    "\n",
    "# Collate all predicted Y and get stats and constraints\n",
    "Y = np.transpose(np.asarray(list(Y.values())))\n",
    "print(Y.shape, parameter.Y.shape)\n",
    "print('Q2=', r2_score(parameter.Y, Y, multioutput='variance_weighted'))\n",
    "X = tf.convert_to_tensor(np.float32(model.X)) # Loss computed of tf tensors\n",
    "Y = tf.convert_to_tensor(np.float32(Y))\n",
    "L2, _ = Loss_SV(Y, model.S)\n",
    "L2 = np.mean(L2.numpy())\n",
    "print('Loss_SV =', L2)\n",
    "L3, _ = Loss_Vin(Y, model.Pin, X, 'UB')\n",
    "L3 = np.mean(L3.numpy())\n",
    "print('Loss_Vin =', L3)\n",
    "L = (L2+L3)/2\n",
    "print('Constraints =', L)"
   ]
  },
  {
   "cell_type": "code",
   "execution_count": null,
   "metadata": {},
   "outputs": [],
   "source": []
  }
 ],
 "metadata": {
  "colab": {
   "collapsed_sections": [],
   "name": "Build_Model.ipynb",
   "provenance": []
  },
  "kernelspec": {
   "display_name": "Python 3",
   "language": "python",
   "name": "python3"
  },
  "language_info": {
   "codemirror_mode": {
    "name": "ipython",
    "version": 3
   },
   "file_extension": ".py",
   "mimetype": "text/x-python",
   "name": "python",
   "nbconvert_exporter": "python",
   "pygments_lexer": "ipython3",
   "version": "3.7.4"
  }
 },
 "nbformat": 4,
 "nbformat_minor": 4
}

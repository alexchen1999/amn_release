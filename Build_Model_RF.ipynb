{
 "cells": [
  {
   "cell_type": "markdown",
   "metadata": {
    "id": "725c9c6d"
   },
   "source": [
    "# Install conda on your Colab environment"
   ]
  },
  {
   "cell_type": "markdown",
   "metadata": {},
   "source": [
    "Ignore this first cell if you are running the notebook in a local environment.\n",
    "\n",
    "One can still run it locally but it will have no effect."
   ]
  },
  {
   "cell_type": "code",
   "execution_count": 1,
   "metadata": {
    "colab": {
     "base_uri": "https://localhost:8080/"
    },
    "executionInfo": {
     "elapsed": 40951,
     "status": "ok",
     "timestamp": 1664526150927,
     "user": {
      "displayName": "Leon Faure",
      "userId": "06483081905364613855"
     },
     "user_tz": -120
    },
    "id": "c4f08880",
    "outputId": "eaae29a9-4739-4b0f-a2a7-56bfa89f0bf0",
    "scrolled": true
   },
   "outputs": [],
   "source": [
    "# Run this cell first - it will install a conda distribution (mamba)\n",
    "# on your Drive then restart the kernel automatically \n",
    "# (don't worry about the crashing/restarting kernel messages)\n",
    "# It HAS to be runned FIRST everytime you use the notebook in colab\n",
    "\n",
    "import os\n",
    "import sys\n",
    "RunningInCOLAB  = 'google.colab' in str(get_ipython())\n",
    "\n",
    "if RunningInCOLAB:\n",
    "    !pip install -q condacolab\n",
    "    import condacolab\n",
    "    condacolab.install()"
   ]
  },
  {
   "cell_type": "markdown",
   "metadata": {},
   "source": [
    "# Set up your Colab or local environment\n",
    "# Then import libraries"
   ]
  },
  {
   "cell_type": "markdown",
   "metadata": {},
   "source": [
    "Run this cell in both cases of use (local or Colab)"
   ]
  },
  {
   "cell_type": "code",
   "execution_count": 2,
   "metadata": {
    "colab": {
     "base_uri": "https://localhost:8080/"
    },
    "executionInfo": {
     "elapsed": 117260,
     "status": "ok",
     "timestamp": 1664526767265,
     "user": {
      "displayName": "Leon Faure",
      "userId": "06483081905364613855"
     },
     "user_tz": -120
    },
    "id": "BYwheAEcr-ME",
    "outputId": "8ba41a54-6751-4c00-ed1a-938db78cafb6"
   },
   "outputs": [
    {
     "name": "stdout",
     "output_type": "stream",
     "text": [
      "['.git', '.gitignore', '.ipynb_checkpoints', 'Build_Dataset.ipynb', 'Build_Experimental.ipynb', 'Build_Model_AMN.ipynb', 'Build_Model_ANN_Dense.ipynb', 'Build_Model_MM.ipynb', 'Build_Model_RC.ipynb', 'Build_Model_RF.ipynb', 'Dataset_experimental', 'Dataset_input', 'Dataset_model', 'Duplicate_Model.ipynb', 'environment_amn.yml', 'environment_amn_light.yml', 'Figures', 'Figures.ipynb', 'Library', 'LICENSE', 'README.md', 'Reservoir', 'Result', 'Tutorial.ipynb']\n"
     ]
    },
    {
     "data": {
      "text/html": [
       "\n",
       "        <style>\n",
       "            .support_message_main_box {\n",
       "                position: relative;\n",
       "                display: table-cell;\n",
       "                vertical-align: middle;\n",
       "                width: 100%;\n",
       "                height: 8em;\n",
       "                padding: 1em;\n",
       "                padding-left: 11em;\n",
       "                background-color: #f7f7f7;\n",
       "                border: 1px solid #cfcfcf;\n",
       "                border-radius: 2px;\n",
       "            }\n",
       "            .support_message_main_box img {\n",
       "                position: absolute;\n",
       "                height: 9em;\n",
       "                width: 9em;\n",
       "                left: 0.5em;\n",
       "                top: 0.5em;\n",
       "                border-radius: 1em;\n",
       "            }\n",
       "        </style>\n",
       "        <div class=\"support_message_main_box\">\n",
       "            <img src=\"https://avatars.githubusercontent.com/u/7738570?v=4\" />\n",
       "            <p>\n",
       "            <b>Hi!</b><br/>\n",
       "            <span>I am the author of\n",
       "            <a href=\"https://github.com/LucaCappelletti94/silence_tensorflow\" target=\"_blank\">\n",
       "                silence_tensorflow\n",
       "            </a>, which you use in this Notebook.\n",
       "            </span><br/>\n",
       "            \n",
       "        <span>I hope my work has saved you some time!</span><br/>\n",
       "        \n",
       "            <span>I love to code, but I also need coffee.</span>\n",
       "            <a href=\"https://github.com/sponsors/LucaCappelletti94\" target=\"_blank\">\n",
       "                Please sponsor me on GitHub ❤️\n",
       "            </a><br/>\n",
       "            <i>Good luck in your coding 🍀!</i>\n",
       "            <br/>\n",
       "            <i>- Luca</i>\n",
       "            </p>\n",
       "        <div>\n",
       "        "
      ],
      "text/plain": [
       "<IPython.core.display.HTML object>"
      ]
     },
     "metadata": {},
     "output_type": "display_data"
    }
   ],
   "source": [
    "import os\n",
    "import sys\n",
    "RunningInCOLAB  = 'google.colab' in str(get_ipython())\n",
    "\n",
    "if RunningInCOLAB:\n",
    "    \n",
    "    # Check everything is fine with conda in Colab\n",
    "    import condacolab\n",
    "    condacolab.check()\n",
    "    \n",
    "    # Mount your drive environment in the colab runtime\n",
    "    from google.colab import drive\n",
    "    drive.mount('/content/drive',force_remount=True)\n",
    "    \n",
    "    # Change this variable to your path on Google Drive to which the repo has been cloned\n",
    "    # If you followed the colab notebook 'repo_cloning.ipynb', nothing to change here\n",
    "    repo_path_in_drive = '/content/drive/My Drive/Github/amn_release/'\n",
    "    # Change directory to your repo cloned in your drive\n",
    "    DIRECTORY = repo_path_in_drive\n",
    "    os.chdir(repo_path_in_drive)\n",
    "    # Copy the environment given in the environment_amn_light.yml\n",
    "    !mamba env update -n base -f environment_amn_light.yml\n",
    "    \n",
    "    # This is one of the few Colab-compatible font\n",
    "    font = 'Liberation Sans'\n",
    "    \n",
    "else:\n",
    "    \n",
    "    # In this case the local root of the repo is our working directory\n",
    "    DIRECTORY = './'\n",
    "    font = 'arial'\n",
    "\n",
    "# printing the working directory files. One can check you see the same folders and files as in the git webpage.\n",
    "print(os.listdir(DIRECTORY))\n",
    "\n",
    "from Library.Build_Model import *\n",
    "\n",
    "# We declare this function here and not in the\n",
    "# function-storing python file to modify it easily\n",
    "# as it can change the printouts of the methods\n",
    "def printout(filename, Stats, model, time): \n",
    "    # printing Stats\n",
    "    if Stats == None:\n",
    "        print('Stats for %s failed CPU-time %.4f' % (filename, time))\n",
    "        return\n",
    "    print('Stats for %s CPU-time %.4f' % (filename, time))\n",
    "    print('R2 = %.4f (+/- %.4f) Constraint = %.4f (+/- %.4f)' % \\\n",
    "          (Stats.train_objective[0], Stats.train_objective[1],\n",
    "           Stats.train_loss[0], Stats.train_loss[1]))\n",
    "    print('Q2 = %.4f (+/- %.4f) Constraint = %.4f (+/- %.4f)' % \\\n",
    "          (Stats.test_objective[0], Stats.test_objective[1],\n",
    "           Stats.test_loss[0], Stats.test_loss[1]))\n",
    "    \n",
    "# Get R2/Q2 and constraints\n",
    "def collate_stats(model, parameter, measurement, Y, verbose=False):  \n",
    "    if verbose: print(Y.shape, parameter.Y.shape)\n",
    "    Y_true = parameter.Y[:, measurement]\n",
    "    Y_pred = Y[:, measurement]\n",
    "    RQ2 = r2_score(Y_true, Y_pred, multioutput='variance_weighted')\n",
    "    if verbose: print('RQ2 =', RQ2)\n",
    "    X = tf.convert_to_tensor(np.float32(model.X)) # Loss computed of tf tensors\n",
    "    Y = tf.convert_to_tensor(np.float32(Y))\n",
    "    L1 = (np.square(Y_true - Y_pred)).mean(axis=0)\n",
    "    if verbose: print('Loss_Vout =', L1)\n",
    "    L2, _ = Loss_SV(Y, model.S)\n",
    "    L2 = np.mean(L2.numpy())\n",
    "    if verbose: print('Loss_SV =', L2)\n",
    "    L3, _ = Loss_Vin(Y, model.Pin, X, model.mediumbound)\n",
    "    L3 = np.mean(L3.numpy())\n",
    "    if verbose: print('Loss_Vin =', L3)\n",
    "    L = (L1+L2+L3)/3\n",
    "    if verbose: print('Constraints =', L)\n",
    "    return RQ2, L\n",
    "\n",
    "def collate_stats_RF(model, Y_pred, measurement, Y, verbose=False):  \n",
    "    if verbose: print(Y.shape, parameter.Y.shape)\n",
    "    Y_true = parameter.Y[:, measurement]\n",
    "    Y_pred = Y[:, measurement]\n",
    "    RQ2 = r2_score(Y_true, Y_pred, multioutput='variance_weighted')\n",
    "    if verbose: print('RQ2 =', RQ2)\n",
    "    X = tf.convert_to_tensor(np.float32(model.X)) # Loss computed of tf tensors\n",
    "    Y = tf.convert_to_tensor(np.float32(Y))\n",
    "    L1 = (np.square(Y_true - Y_pred)).mean(axis=0)\n",
    "    if verbose: print('Loss_Vout =', L1)\n",
    "    L2, _ = Loss_SV(Y, model.S)\n",
    "    L2 = np.mean(L2.numpy())\n",
    "    if verbose: print('Loss_SV =', L2)\n",
    "    L3, _ = Loss_Vin(Y, model.Pin, X, model.mediumbound)\n",
    "    L3 = np.mean(L3.numpy())\n",
    "    if verbose: print('Loss_Vin =', L3)\n",
    "    L = (L1+L2+L3)/3\n",
    "    if verbose: print('Constraints =', L)\n",
    "    return RQ2, L"
   ]
  },
  {
   "cell_type": "markdown",
   "metadata": {
    "id": "LNzx86fAt34-"
   },
   "source": [
    "# Create and Train ANN\n",
    "\n",
    "\n"
   ]
  },
  {
   "cell_type": "code",
   "execution_count": 3,
   "metadata": {
    "scrolled": true,
    "tags": []
   },
   "outputs": [
    {
     "data": {
      "text/plain": [
       "((1000, 20), (1000, 154))"
      ]
     },
     "execution_count": 3,
     "metadata": {},
     "output_type": "execute_result"
    }
   ],
   "source": [
    "# What you can change\n",
    "seed = 20\n",
    "np.random.seed(seed=seed)\n",
    "trainname = 'e_coli_core_UB_1000'\n",
    "xfold = 5\n",
    "Maxloop = 3\n",
    "# End of what you can change\n",
    "\n",
    "# Load training set\n",
    "trainingfile = DIRECTORY+'Dataset_model/' + trainname\n",
    "cobramodel = cobra.io.read_sbml_model(trainingfile+'.xml')\n",
    "parameter = TrainingSet()\n",
    "parameter.load(trainingfile)\n",
    "RQ2, Loss = [], []\n",
    "\n",
    "model = Neural_Model(trainingfile = trainingfile,\n",
    "                        model_type = 'ANN_Dense',\n",
    "                        scaler=True,\n",
    "                        n_hidden = 1, hidden_dim = 50,\n",
    "                        epochs = 500, xfold = xfold)\n",
    "\"\"\"# Train and evaluate\n",
    "start_time = time.time()\n",
    "try:\n",
    "    reservoir, pred, stats, _ = train_evaluate_model(model, verbose=2)\n",
    "except:\n",
    "    reservoir, pred, stats, _ = None, np.zeros(model.Y.shape), None, None\n",
    "# Printing cross-validation results\n",
    "delta_time = time.time() - start_time\n",
    "printout('All fluxes', stats, reservoir, delta_time)\n",
    "\n",
    "# Collate all predicted Y and get stats and constraints\n",
    "biomass_index = get_index_from_id('BIOMASS_Ecoli_core_w_GAM',cobramodel.reactions)\n",
    "rq2, l = collate_stats(model, parameter, biomass_index, pred, verbose=True)\n",
    "RQ2.append(rq2)\n",
    "Loss.append(l)\n",
    "\n",
    "# Print stats averaged over all iterations\n",
    "rqt = 'R2 (biomass)' if xfold < 2 else 'Q2 (biomass)'\n",
    "print(rqt, '= %.4f (+/- %.4f) Loss = %.4f (+/- %.4f)' \\\n",
    "      % (np.mean(RQ2), np.std(RQ2), np.mean(Loss), np.std(Loss)))\"\"\"\n",
    "\n",
    "\n",
    "model.X.shape, model.Y.shape"
   ]
  },
  {
   "cell_type": "code",
   "execution_count": 8,
   "metadata": {},
   "outputs": [
    {
     "name": "stderr",
     "output_type": "stream",
     "text": [
      "c:\\Users\\faure\\miniconda3\\envs\\AMN\\lib\\site-packages\\joblib\\externals\\loky\\process_executor.py:703: UserWarning: A worker stopped while some jobs were given to the executor. This can be caused by a too short worker timeout or by a memory leak.\n",
      "  \"timeout or by a memory leak.\", UserWarning\n"
     ]
    }
   ],
   "source": [
    "from sklearn.ensemble import RandomForestRegressor as rfr\n",
    "from sklearn.multioutput import MultiOutputRegressor\n",
    "from sklearn.model_selection import KFold\n",
    "from sklearn.model_selection import cross_val_predict as cvp\n",
    "from sklearn.metrics import r2_score\n",
    "\n",
    "RF = MultiOutputRegressor(rfr(n_estimators=500, max_depth=None, random_state=1))\n",
    "    \n",
    "rf_pred = cvp(RF, model.X, model.Y, cv=KFold(n_splits=10, shuffle=True, random_state=1), n_jobs = 10)\n",
    "\n",
    "print(r2_score(model.Y, rf_pred, multioutput='variance_weighted'))"
   ]
  },
  {
   "cell_type": "code",
   "execution_count": null,
   "metadata": {},
   "outputs": [],
   "source": [
    "\"\"\"\n",
    "e_coli_core_UB_10\n",
    "RQ2 = 0.5093122289792134\n",
    "Loss_Vout = 0.009020895545336305\n",
    "Loss_SV = 0.16743167\n",
    "Loss_Vin = 0.3259917\n",
    "Constraints = 0.16748141771709016\n",
    "R2 (biomass) = 0.8226 (+/- 0.0483) Loss = 0.1144 (+/- 0.0082)\n",
    "Q2 (biomass) = 0.3874 (+/- 0.2477) Loss = 0.2167 (+/- 0.0745)\n",
    "\n",
    "e_coli_core_EB_10\n",
    "RQ2 = 0.8126782171521297\n",
    "Loss_Vout = 0.003443758610330688\n",
    "Loss_SV = 0.05173849\n",
    "Loss_Vin = 0.49004155\n",
    "Constraints = 0.18174126733456805\n",
    "R2 (biomass) = 0.8301 (+/- 0.0130) Loss = 0.1838 (+/- 0.0022)\n",
    "Q2 (biomass) = 0.6621 (+/- 0.1461) Loss = 0.2656 (+/- 0.0210)\n",
    "\n",
    "e_coli_core_UB_50\n",
    "Q2 (biomass) = 0.8664 (+/- 0.0081) Loss = 0.1489 (+/- 0.0206)\n",
    "\n",
    "e_coli_core_UB_100\n",
    "Q2 (biomass) = 0.8512 (+/- 0.0546) Loss = 0.1108 (+/- 0.0046)\n",
    "\n",
    "e_coli_core_UB_500\n",
    "Q2 (biomass) = 0.9323 (+/- 0.0113) Loss = 0.0559 (+/- 0.0068)\n",
    "\n",
    "e_coli_core_UB_1000\n",
    "Q2 (biomass) = 0.9496 (+/- 0.0069) Loss = 0.0494 (+/- 0.0038)\n",
    "\n",
    "e_coli_core_UB_5000\n",
    "RQ2 = 0.9654334994082111\n",
    "Loss_Vout = 0.0005803402165036408\n",
    "Loss_SV = 0.087595426\n",
    "Loss_Vin = 0.05468053\n",
    "Constraints = 0.04761876524817484\n",
    "Q2 (biomass) = 0.9629 (+/- 0.0041) Loss = 0.0479 (+/- 0.0026)\n",
    "\"\"\""
   ]
  },
  {
   "cell_type": "code",
   "execution_count": null,
   "metadata": {},
   "outputs": [],
   "source": []
  }
 ],
 "metadata": {
  "colab": {
   "collapsed_sections": [],
   "name": "Build_Model.ipynb",
   "provenance": []
  },
  "kernelspec": {
   "display_name": "Python 3.10.8 64-bit (microsoft store)",
   "language": "python",
   "name": "python3"
  },
  "language_info": {
   "codemirror_mode": {
    "name": "ipython",
    "version": 3
   },
   "file_extension": ".py",
   "mimetype": "text/x-python",
   "name": "python",
   "nbconvert_exporter": "python",
   "pygments_lexer": "ipython3",
   "version": "3.7.12"
  },
  "vscode": {
   "interpreter": {
    "hash": "e624327380ab732a3089351997c79dba11be96642e03bc677616634e058a4666"
   }
  }
 },
 "nbformat": 4,
 "nbformat_minor": 4
}

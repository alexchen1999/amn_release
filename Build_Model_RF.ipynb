{
 "cells": [
  {
   "cell_type": "markdown",
   "metadata": {
    "id": "725c9c6d"
   },
   "source": [
    "# Install conda on your Colab environment"
   ]
  },
  {
   "cell_type": "markdown",
   "metadata": {},
   "source": [
    "Ignore this first cell if you are running the notebook in a local environment.\n",
    "\n",
    "One can still run it locally but it will have no effect."
   ]
  },
  {
   "cell_type": "code",
   "execution_count": 1,
   "metadata": {
    "colab": {
     "base_uri": "https://localhost:8080/"
    },
    "executionInfo": {
     "elapsed": 40951,
     "status": "ok",
     "timestamp": 1664526150927,
     "user": {
      "displayName": "Leon Faure",
      "userId": "06483081905364613855"
     },
     "user_tz": -120
    },
    "id": "c4f08880",
    "outputId": "eaae29a9-4739-4b0f-a2a7-56bfa89f0bf0",
    "scrolled": true
   },
   "outputs": [],
   "source": [
    "# Run this cell first - it will install a conda distribution (mamba)\n",
    "# on your Drive then restart the kernel automatically \n",
    "# (don't worry about the crashing/restarting kernel messages)\n",
    "# It HAS to be runned FIRST everytime you use the notebook in colab\n",
    "\n",
    "import os\n",
    "import sys\n",
    "RunningInCOLAB  = 'google.colab' in str(get_ipython())\n",
    "\n",
    "if RunningInCOLAB:\n",
    "    !pip install -q condacolab\n",
    "    import condacolab\n",
    "    condacolab.install()"
   ]
  },
  {
   "cell_type": "markdown",
   "metadata": {},
   "source": [
    "# Set up your Colab or local environment\n",
    "# Then import libraries"
   ]
  },
  {
   "cell_type": "markdown",
   "metadata": {},
   "source": [
    "Run this cell in both cases of use (local or Colab)"
   ]
  },
  {
   "cell_type": "code",
   "execution_count": 2,
   "metadata": {
    "colab": {
     "base_uri": "https://localhost:8080/"
    },
    "executionInfo": {
     "elapsed": 117260,
     "status": "ok",
     "timestamp": 1664526767265,
     "user": {
      "displayName": "Leon Faure",
      "userId": "06483081905364613855"
     },
     "user_tz": -120
    },
    "id": "BYwheAEcr-ME",
    "outputId": "8ba41a54-6751-4c00-ed1a-938db78cafb6"
   },
   "outputs": [
    {
     "name": "stdout",
     "output_type": "stream",
     "text": [
      "['README.md', 'Duplicate_Model.ipynb', 'Dataset_experimental', 'Tutorial.ipynb', '.ipynb_checkpoints', '.git', 'Build_Model_RC.ipynb', 'biolog_simulations.npy', 'environment_amn_light.yml', 'Build_Experimental.ipynb', 'Reservoir', 'Build_Model_MM.ipynb', 'Dataset_model', 'Figures.ipynb', 'Result', 'Figures', '.gitignore', 'LICENSE', 'Build_Model_ANN_Dense.ipynb', 'Build_Dataset.ipynb', 'Build_Model_RF.ipynb', 'Library', 'Dataset_input', 'Functions', 'environment_amn.yml', 'Build_Model_AMN.ipynb', '.DS_Store']\n"
     ]
    }
   ],
   "source": [
    "import os\n",
    "import sys\n",
    "RunningInCOLAB  = 'google.colab' in str(get_ipython())\n",
    "\n",
    "if RunningInCOLAB:\n",
    "    \n",
    "    # Check everything is fine with conda in Colab\n",
    "    import condacolab\n",
    "    condacolab.check()\n",
    "    \n",
    "    # Mount your drive environment in the colab runtime\n",
    "    from google.colab import drive\n",
    "    drive.mount('/content/drive',force_remount=True)\n",
    "    \n",
    "    # Change this variable to your path on Google Drive to which the repo has been cloned\n",
    "    # If you followed the colab notebook 'repo_cloning.ipynb', nothing to change here\n",
    "    repo_path_in_drive = '/content/drive/My Drive/Github/amn_release/'\n",
    "    # Change directory to your repo cloned in your drive\n",
    "    DIRECTORY = repo_path_in_drive\n",
    "    os.chdir(repo_path_in_drive)\n",
    "    # Copy the environment given in the environment_amn_light.yml\n",
    "    !mamba env update -n base -f environment_amn_light.yml\n",
    "    \n",
    "    # This is one of the few Colab-compatible font\n",
    "    font = 'Liberation Sans'\n",
    "    \n",
    "else:\n",
    "    \n",
    "    # In this case the local root of the repo is our working directory\n",
    "    DIRECTORY = './'\n",
    "    font = 'arial'\n",
    "\n",
    "# printing the working directory files. One can check you see the same folders and files as in the git webpage.\n",
    "print(os.listdir(DIRECTORY))\n",
    "\n",
    "from Library.Build_Model import *\n",
    "\n",
    "# We declare this function here and not in the\n",
    "# function-storing python file to modify it easily\n",
    "# as it can change the printouts of the methods\n",
    "def printout(filename, Stats, model, time): \n",
    "    # printing Stats\n",
    "    if Stats == None:\n",
    "        print('Stats for %s failed CPU-time %.4f' % (filename, time))\n",
    "        return\n",
    "    print('Stats for %s CPU-time %.4f' % (filename, time))\n",
    "    print('R2 = %.4f (+/- %.4f) Constraint = %.4f (+/- %.4f)' % \\\n",
    "          (Stats.train_objective[0], Stats.train_objective[1],\n",
    "           Stats.train_loss[0], Stats.train_loss[1]))\n",
    "    print('Q2 = %.4f (+/- %.4f) Constraint = %.4f (+/- %.4f)' % \\\n",
    "          (Stats.test_objective[0], Stats.test_objective[1],\n",
    "           Stats.test_loss[0], Stats.test_loss[1]))\n",
    "    \n",
    "# Get R2/Q2 and constraints\n",
    "def collate_stats(model, parameter, measurement, Y, verbose=False):  \n",
    "    if verbose: print(Y.shape, parameter.Y.shape)\n",
    "    Y_true = parameter.Y[:, measurement]\n",
    "    Y_pred = Y[:, measurement]\n",
    "    RQ2 = r2_score(Y_true, Y_pred, multioutput='variance_weighted')\n",
    "    if verbose: print('RQ2 =', RQ2)\n",
    "    X = tf.convert_to_tensor(np.float32(model.X)) # Loss computed of tf tensors\n",
    "    Y = tf.convert_to_tensor(np.float32(Y))\n",
    "    L1 = (np.square(Y_true - Y_pred)).mean(axis=0)\n",
    "    if verbose: print('Loss_Vout =', L1)\n",
    "    L2, _ = Loss_SV(Y, model.S)\n",
    "    L2 = np.mean(L2.numpy())\n",
    "    if verbose: print('Loss_SV =', L2)\n",
    "    L3, _ = Loss_Vin(Y, model.Pin, X, model.mediumbound)\n",
    "    L3 = np.mean(L3.numpy())\n",
    "    if verbose: print('Loss_Vin =', L3)\n",
    "    L = (L1+L2+L3)/3\n",
    "    if verbose: print('Constraints =', L)\n",
    "    return RQ2, L\n",
    "\n",
    "def collate_stats_RF(model, Y_ref, measurement, Y_preds, verbose=False):  \n",
    "    if verbose: print(Y_preds.shape, Y_ref.shape)\n",
    "    Y_true = Y_ref[:, measurement]\n",
    "    Y_pred = Y_preds[:, measurement]\n",
    "    Q2 = r2_score(Y_true, Y_pred)\n",
    "    if verbose: print('RQ2 =', Q2)\n",
    "    X = tf.convert_to_tensor(np.float32(model.X)) # Loss computed of tf tensors\n",
    "    Y = tf.convert_to_tensor(np.float32(Y_preds))\n",
    "    L1 = (np.square(Y_true - Y_pred)).mean(axis=0)\n",
    "    if verbose: print('Loss_Vout =', L1)\n",
    "    L2, _ = Loss_SV(Y, model.S)\n",
    "    L2 = np.mean(L2.numpy())\n",
    "    if verbose: print('Loss_SV =', L2)\n",
    "    L3, _ = Loss_Vin(Y, model.Pin, X, model.mediumbound)\n",
    "    L3 = np.mean(L3.numpy())\n",
    "    if verbose: print('Loss_Vin =', L3)\n",
    "    L = (L1+L2+L3)/3\n",
    "    if verbose: print('Constraints =', L)\n",
    "    return Q2, L"
   ]
  },
  {
   "cell_type": "markdown",
   "metadata": {
    "id": "LNzx86fAt34-"
   },
   "source": [
    "# Create and Train Random Forest"
   ]
  },
  {
   "cell_type": "code",
   "execution_count": 3,
   "metadata": {
    "scrolled": true,
    "tags": []
   },
   "outputs": [
    {
     "data": {
      "text/plain": [
       "((1000, 20), (1000, 154))"
      ]
     },
     "execution_count": 3,
     "metadata": {},
     "output_type": "execute_result"
    }
   ],
   "source": [
    "# What you can change\n",
    "seed = 20\n",
    "np.random.seed(seed=seed)\n",
    "\n",
    "# trainname = 'e_coli_core_UB_10'\n",
    "# trainname = 'e_coli_core_EB_10'\n",
    "# trainname = 'e_coli_core_UB_50'\n",
    "# trainname = 'e_coli_core_UB_100'\n",
    "# trainname = 'e_coli_core_UB_500'\n",
    "trainname = 'e_coli_core_UB_1000'\n",
    "# End of what you can change\n",
    "\n",
    "# Load training set\n",
    "trainingfile = DIRECTORY+'Dataset_model/' + trainname\n",
    "cobramodel = cobra.io.read_sbml_model(trainingfile+'.xml')\n",
    "parameter = TrainingSet()\n",
    "parameter.load(trainingfile)\n",
    "RQ2, Loss = [], []\n",
    "\n",
    "model = Neural_Model(trainingfile = trainingfile,\n",
    "                        model_type = 'ANN_Dense',\n",
    "                        scaler=True,\n",
    "                        n_hidden = 1, hidden_dim = 50,\n",
    "                        epochs = 500, xfold = 5)\n",
    "\n",
    "model.X.shape, model.Y.shape"
   ]
  },
  {
   "cell_type": "code",
   "execution_count": 4,
   "metadata": {},
   "outputs": [
    {
     "name": "stdout",
     "output_type": "stream",
     "text": [
      "(1000, 154) (1000, 154)\n",
      "RQ2 = 0.9559045499768442\n",
      "Loss_Vout = 0.000678624571590675\n",
      "Loss_SV = 1.5949273e-07\n",
      "Loss_Vin = 0.0\n",
      "Constraints = 0.00022626135477301092\n",
      "(1000, 154) (1000, 154)\n",
      "RQ2 = 0.9564431916152767\n",
      "Loss_Vout = 0.0006736933675567493\n",
      "Loss_SV = 1.5949273e-07\n",
      "Loss_Vin = 0.0\n",
      "Constraints = 0.00022461762009503566\n",
      "(1000, 154) (1000, 154)\n",
      "RQ2 = 0.9561115766646224\n",
      "Loss_Vout = 0.0006665711439733366\n",
      "Loss_SV = 1.5949273e-07\n",
      "Loss_Vin = 0.0\n",
      "Constraints = 0.00022224354556723145\n",
      "Q2 (biomass) = 0.9562 (+/- 0.0002) Loss = 0.0002 (+/- 0.0000)\n"
     ]
    }
   ],
   "source": [
    "# train a Random Forest model\n",
    "\n",
    "from sklearn.ensemble import RandomForestRegressor as rfr\n",
    "from sklearn.multioutput import MultiOutputRegressor\n",
    "from sklearn.model_selection import KFold\n",
    "from sklearn.model_selection import cross_val_predict as cvp\n",
    "from sklearn.metrics import r2_score\n",
    "\n",
    "cobramodel = cobra.io.read_sbml_model(trainingfile+'.xml')\n",
    "biomass_index = get_index_from_id('BIOMASS_Ecoli_core_w_GAM',cobramodel.reactions)\n",
    "\n",
    "xfold = 5\n",
    "Maxloop = 3\n",
    "\n",
    "RQ2, Loss = [], []\n",
    "\n",
    "for Nloop in range(Maxloop):\n",
    "\n",
    "    RF = MultiOutputRegressor(rfr(n_estimators=1000, max_depth=None, random_state=Nloop))\n",
    "        \n",
    "    rf_pred = cvp(RF, model.X, model.Y, cv=KFold(n_splits=xfold, shuffle=True, random_state=Nloop), n_jobs = xfold)\n",
    "\n",
    "    rq2, l = collate_stats_RF(model, rf_pred, biomass_index, model.Y, verbose=True)\n",
    "    RQ2.append(rq2)\n",
    "    Loss.append(l)\n",
    "\n",
    "# Print stats averaged over all iterations\n",
    "rqt = 'R2 (biomass)' if xfold < 2 else 'Q2 (biomass)'\n",
    "print(rqt, '= %.4f (+/- %.4f) Loss = %.4f (+/- %.4f)' \\\n",
    "      % (np.mean(RQ2), np.std(RQ2), np.mean(Loss), np.std(Loss)))"
   ]
  },
  {
   "cell_type": "code",
   "execution_count": 4,
   "metadata": {},
   "outputs": [
    {
     "name": "stdout",
     "output_type": "stream",
     "text": [
      "0.5587182693370569 -0.4053601982471869\n",
      "0.0\n",
      "[8.39 8.39 8.39 8.39 8.39 8.39 8.39 8.39 8.39 8.39 8.39 8.39 8.39 8.39\n",
      " 8.39 8.39 8.39 8.39 8.39 8.39 8.39 8.39 8.39 8.39 8.39 8.39 8.39 8.39\n",
      " 8.39 8.39 8.39 8.39 8.39 8.39 8.39 8.39 8.39 8.39 8.39 8.39 8.39 8.39\n",
      " 8.39 8.39 8.39 8.39 8.39 8.39 8.39 8.39] [8.39 8.39 8.39 8.39 8.39 8.39 8.39 8.39 8.39 8.39 8.39 8.39 8.39 8.39\n",
      " 8.39 8.39 8.39 8.39 8.39 8.39 8.39 8.39 8.39 8.39 8.39 8.39 8.39 8.39\n",
      " 8.39 8.39 8.39 8.39 8.39 8.39 8.39 8.39 8.39 8.39 8.39 8.39 8.39 8.39\n",
      " 8.39 8.39 8.39 8.39 8.39 8.39 8.39 8.39]\n",
      "1.2129525278678278e-26\n"
     ]
    }
   ],
   "source": [
    "# Some exploration of the results\n",
    "\n",
    "# R2 on all fluxes, variance weighted or not\n",
    "print(r2_score(model.Y, rf_pred, multioutput='variance_weighted'), r2_score(model.Y, rf_pred, multioutput='uniform_average'))\n",
    "# print(r2_score(model.Y, rf_pred, multioutput='raw_values'))\n",
    "\n",
    "# Some fluxes make the R2 scoring bad because they have always the same value in training set\n",
    "# Examples: 15 is for ATPM, always at 8.39 (lower bound value); 72 is an uptake which is always at 10\n",
    "print(r2_score(model.Y[:,15], rf_pred[:,15]))\n",
    "\n",
    "# Random Forests can predict a constant value, ANN has troubles for that\n",
    "print(model.Y[:,15], rf_pred[:,15])\n",
    "\n",
    "# If looking at the MSE, it makes more sense (R2 is probably not the best metric when having constant fluxes in true)\n",
    "from sklearn.metrics import mean_squared_error\n",
    "print(mean_squared_error(model.Y[:,15], rf_pred[:,15]))"
   ]
  },
  {
   "cell_type": "code",
   "execution_count": null,
   "metadata": {},
   "outputs": [],
   "source": [
    "\"\"\"\n",
    "e_coli_core_UB_10\n",
    "RQ2 = -0.9614889870359049\n",
    "Loss_Vout = 0.007205661434244432\n",
    "Loss_SV = 1.341026e-07\n",
    "Loss_Vin = 0.0\n",
    "Constraints = 0.002401931845616928\n",
    "Q2 (biomass) = -0.9294 (+/- 0.0405) Loss = 0.0026 (+/- 0.0002)\n",
    "\n",
    "e_coli_core_EB_10\n",
    "RQ2 = 0.46710287005289863\n",
    "Loss_Vout = 0.003945400312211618\n",
    "Loss_SV = 1.341026e-07\n",
    "Loss_Vin = 0.0\n",
    "Constraints = 0.0013151781382726567\n",
    "Q2 (biomass) = 0.4360 (+/- 0.0616) Loss = 0.0015 (+/- 0.0002)\n",
    "\n",
    "e_coli_core_UB_50\n",
    "RQ2 = 0.5042871268837632\n",
    "Loss_Vout = 0.0044485842385107366\n",
    "Loss_SV = 1.4163145e-07\n",
    "Loss_Vin = 0.0\n",
    "Constraints = 0.0014829086233189544\n",
    "Q2 (biomass) = 0.5402 (+/- 0.0274) Loss = 0.0014 (+/- 0.0001)\n",
    "\n",
    "e_coli_core_UB_100\n",
    "RQ2 = 0.7412160739010045\n",
    "Loss_Vout = 0.002787731042068949\n",
    "Loss_SV = 1.4716305e-07\n",
    "Loss_Vin = 0.0\n",
    "Constraints = 0.0009292927350395651\n",
    "Q2 (biomass) = 0.7776 (+/- 0.0259) Loss = 0.0008 (+/- 0.0001)\n",
    "\n",
    "e_coli_core_UB_500\n",
    "RQ2 = 0.9295530992884391\n",
    "Loss_Vout = 0.0010030032828992294\n",
    "Loss_SV = 1.58766e-07\n",
    "Loss_Vin = 0.0\n",
    "Constraints = 0.00033438734963289594\n",
    "Q2 (biomass) = 0.9314 (+/- 0.0025) Loss = 0.0003 (+/- 0.0000)\n",
    "\"\"\""
   ]
  }
 ],
 "metadata": {
  "colab": {
   "collapsed_sections": [],
   "name": "Build_Model.ipynb",
   "provenance": []
  },
  "kernelspec": {
   "display_name": "Python 3.7.11 ('AMN')",
   "language": "python",
   "name": "python3"
  },
  "language_info": {
   "codemirror_mode": {
    "name": "ipython",
    "version": 3
   },
   "file_extension": ".py",
   "mimetype": "text/x-python",
   "name": "python",
   "nbconvert_exporter": "python",
   "pygments_lexer": "ipython3",
   "version": "3.7.11"
  },
  "vscode": {
   "interpreter": {
    "hash": "a6c18e9696c1974a25314c7f50070d762f9d347da5760adda9ec45ed5120fd09"
   }
  }
 },
 "nbformat": 4,
 "nbformat_minor": 4
}
